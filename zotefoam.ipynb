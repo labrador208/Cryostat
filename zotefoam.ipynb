{
  "nbformat": 4,
  "nbformat_minor": 0,
  "metadata": {
    "colab": {
      "name": "zotefoam.ipynb",
      "provenance": [],
      "authorship_tag": "ABX9TyNDAJPpThoykZsOL3e5/JjK",
      "include_colab_link": true
    },
    "kernelspec": {
      "display_name": "Python 3",
      "name": "python3"
    },
    "language_info": {
      "name": "python"
    }
  },
  "cells": [
    {
      "cell_type": "markdown",
      "metadata": {
        "id": "view-in-github",
        "colab_type": "text"
      },
      "source": [
        "<a href=\"https://colab.research.google.com/github/labrador208/Cryostat/blob/main/zotefoam.ipynb\" target=\"_parent\"><img src=\"https://colab.research.google.com/assets/colab-badge.svg\" alt=\"Open In Colab\"/></a>"
      ]
    },
    {
      "cell_type": "code",
      "metadata": {
        "id": "CGj6sPtqJ87N"
      },
      "source": [
        "import numpy as np\n",
        "import matplotlib.pyplot as plt\n",
        "import math as math\n",
        "import random\n",
        "random.seed(5)"
      ],
      "execution_count": null,
      "outputs": []
    },
    {
      "cell_type": "code",
      "metadata": {
        "id": "4c5qtQYRKH2C"
      },
      "source": [
        ""
      ],
      "execution_count": null,
      "outputs": []
    },
    {
      "cell_type": "code",
      "metadata": {
        "id": "Glh936QdKJFL"
      },
      "source": [
        "temp=283\n",
        "i=0.000001\n",
        "#i=-1\n",
        "wavelengths=[]\n",
        "emissivePower=[]\n",
        "emissivePowerFilter=[]\n",
        "#emissivePower=[]\n",
        "Etop=2*(6.63e-34)*((3e8)*(3e8))\n",
        "#print (Etop)\n",
        "while i<1:\n",
        "  #j=i*math.pow(10,6)\n",
        "  wavelengths.append(i)\n",
        "  exponentTerm3=(6.63e-34*3.00e8)/((i*1.3805e-23)*temp)\n",
        "  Ebot=math.pow(i,5)*(np.exp(exponentTerm3)-1)\n",
        "  E=Etop/Ebot\n",
        "  filter=-1.297*(np.exp(-5900*i))+1.3  \n",
        "  if i>0.003:\n",
        "    filter=1\n",
        "  if filter>1:\n",
        "    filter=1\n",
        "  emissivePower.append(E)\n",
        "  Efilter=E*filter\n",
        "  #if Efilter<0:\n",
        "    #Efilter=0\n",
        "  emissivePowerFilter.append(Efilter)\n",
        "  i=i+0.00000005"
      ],
      "execution_count": null,
      "outputs": []
    },
    {
      "cell_type": "code",
      "metadata": {
        "colab": {
          "base_uri": "https://localhost:8080/",
          "height": 286
        },
        "id": "WHz8d52NV2hE",
        "outputId": "3b28a5ce-1ea4-48fd-88d3-c573498439b5"
      },
      "source": [
        "plt.plot(wavelengths,emissivePower,'.')\n",
        "plt.plot(wavelengths,emissivePowerFilter,'*')\n",
        "#plt.xlim(0,0.00005)\n",
        "#plt.xlim(0.00005,1)\n",
        "#plt.ylim(0,0.2e6)\n",
        "plt.xlim(0,0.0003)\n",
        "#plt.ylim(0,40000)\n",
        "plt.ylim(0,700000)"
      ],
      "execution_count": null,
      "outputs": [
        {
          "output_type": "execute_result",
          "data": {
            "text/plain": [
              "(0.0, 700000.0)"
            ]
          },
          "metadata": {
            "tags": []
          },
          "execution_count": 3
        },
        {
          "output_type": "display_data",
          "data": {
            "image/png": "[encoded data removed]",
            "text/plain": [
              "<Figure size 432x288 with 1 Axes>"
            ]
          },
          "metadata": {
            "tags": [],
            "needs_background": "light"
          }
        }
      ]
    },
    {
      "cell_type": "code",
      "metadata": {
        "colab": {
          "base_uri": "https://localhost:8080/"
        },
        "id": "vhXv-qj9fd6N",
        "outputId": "44869c4b-7eda-4872-e86b-0d4ce3336e5e"
      },
      "source": [
        "xLowerBound=0.0000001\n",
        "xUpperBound=0.0003\n",
        "yMax=700000\n",
        "count=0.0\n",
        "countFilter=0.0\n",
        "x=0.0\n",
        "Etop=2*(6.63e-34)*((3e8)*(3e8))\n",
        "xCoordIn=[]\n",
        "yCoordIn=[]\n",
        "xCoordFilter=[]\n",
        "yCoordFilter=[]\n",
        "xCoordOut=[]\n",
        "yCoordOut=[]\n",
        "\n",
        "while x<10000000:\n",
        "  xCoord=random.uniform(xLowerBound, xUpperBound)\n",
        "  yCoord=random.uniform(0,yMax)\n",
        "  exponentTerm3=(6.63*math.pow(10,-34)*3.00*math.pow(10,8))/(xCoord*1.3805*math.pow(10,-23)*temp)\n",
        "  Ebot=(xCoord**5)*(np.exp(exponentTerm3)-1)\n",
        "  #filter=0.8025+(0.1004*xCoord)-(0.005953*(xCoord**2))+(1.5781e-6*(xCoord**3))-(1.86e-9*(xCoord**4))+(7.428e-13*(xCoord**5))\n",
        "  filter=-1.297*(np.exp(-5900*xCoord))+1.3  \n",
        "\n",
        "  if xCoord>0.003:\n",
        "    filter=1\n",
        "  if filter>1:\n",
        "    filter=1\n",
        "  functionValue=Etop/Ebot\n",
        "  functionFilter=functionValue*filter\n",
        "  \n",
        "  if functionFilter<0:\n",
        "    functionFilter=0\n",
        "  #print(xCoord, yCoord, functionValue, functionFilter)\n",
        "\n",
        "  x=x+1\n",
        "  if yCoord<=functionFilter:\n",
        "    countFilter=countFilter+1\n",
        "    count=count+1\n",
        "    #print(xCoord, yCoord, functionValue)\n",
        "\n",
        "    #print (count)\n",
        "    #print (x)\n",
        "    xCoordFilter.append(xCoord)\n",
        "    yCoordFilter.append(yCoord)\n",
        "  elif yCoord<=functionValue:\n",
        "    count=count+1\n",
        "    xCoordIn.append(xCoord)\n",
        "    yCoordIn.append(yCoord)\n",
        "  else:\n",
        "    xCoordOut.append(xCoord)\n",
        "    yCoordOut.append(yCoord)\n",
        "  \n",
        "ratioFilter=countFilter/x\n",
        "ratio=count/x\n",
        "resultFilter=(xUpperBound-xLowerBound)*(yMax)*ratioFilter\n",
        "print (resultFilter)\n",
        "result=(xUpperBound-xLowerBound)*(yMax)*ratio\n",
        "print(result)\n",
        "\n",
        "\n"
      ],
      "execution_count": null,
      "outputs": [
        {
          "output_type": "stream",
          "text": [
            "15.494240530999999\n",
            "31.863322350999994\n"
          ],
          "name": "stdout"
        }
      ]
    },
    {
      "cell_type": "code",
      "metadata": {
        "colab": {
          "base_uri": "https://localhost:8080/",
          "height": 296
        },
        "id": "idQeXt2FlBCU",
        "outputId": "6f649d69-4219-431d-8694-94702c0d2d36"
      },
      "source": [
        "plt.plot(xCoordIn,yCoordIn,'.',color='orange')\n",
        "plt.plot(xCoordFilter,yCoordFilter,'.', color='red')\n",
        "plt.plot(xCoordOut,yCoordOut,'.', color='blue')\n",
        "#plt.ylim(0, 1.7e-29)\n",
        "plt.xlabel('Meters')\n",
        "plt.ylabel('Spectral Radiance (W/m^3)')\n",
        "#title=' K Integrated from 125GHz to 165GHz'\n",
        "#title=temp ,\" K Integrated from 125GHz to 165GHz\"\n",
        "#plt.title(title)\n",
        "#print(result, \"W/m^2\")\n",
        "plt.xlim(0,0.0003)\n",
        "#plt.ylim(0,30000)"
      ],
      "execution_count": null,
      "outputs": [
        {
          "output_type": "execute_result",
          "data": {
            "text/plain": [
              "(0.0, 0.0003)"
            ]
          },
          "metadata": {
            "tags": []
          },
          "execution_count": 5
        },
        {
          "output_type": "display_data",
          "data": {
            "image/png": "[encoded data removed]",
            "text/plain": [
              "<Figure size 432x288 with 1 Axes>"
            ]
          },
          "metadata": {
            "tags": [],
            "needs_background": "light"
          }
        }
      ]
    },
    {
      "cell_type": "code",
      "metadata": {
        "id": "bbTu-JfSNY34"
      },
      "source": [
        "temp=275\n",
        "i=0.000001\n",
        "#i=-1\n",
        "wavelengths275=[]\n",
        "emissivePower275=[]\n",
        "emissivePowerFilter275=[]\n",
        "#emissivePower=[]\n",
        "Etop=2*(6.63e-34)*((3e8)*(3e8))\n",
        "#print (Etop)\n",
        "while i<1:\n",
        "  #j=i*math.pow(10,6)\n",
        "  wavelengths275.append(i)\n",
        "  exponentTerm3=(6.63e-34*3.00e8)/((i*1.3805e-23)*temp)\n",
        "  Ebot=math.pow(i,5)*(np.exp(exponentTerm3)-1)\n",
        "  E=Etop/Ebot\n",
        "  #filter=0.8025+(0.1004*i)-(0.005953*(i**2))+(1.5781e-6*(i**3))-(1.86e-9*(i**4))+(7.428e-13*(i**5))\n",
        "  filter=-1.297*(np.exp(-5900*i))+1.3  \n",
        "  if i>0.003:\n",
        "    filter=1\n",
        "  if filter>1:\n",
        "    filter=1\n",
        "    \n",
        "  emissivePower275.append(E)\n",
        "  Efilter=E*filter\n",
        "  #if Efilter<0:\n",
        "    #Efilter=0\n",
        "  emissivePowerFilter275.append(Efilter)\n",
        "  i=i+0.00000005\n",
        "\n"
      ],
      "execution_count": null,
      "outputs": []
    },
    {
      "cell_type": "code",
      "metadata": {
        "colab": {
          "base_uri": "https://localhost:8080/",
          "height": 286
        },
        "id": "dR0m_lXzOYj_",
        "outputId": "2c1b25f3-4e21-4fff-cf52-75cd43d6d893"
      },
      "source": [
        "plt.plot(wavelengths275,emissivePower275,'.')\n",
        "plt.plot(wavelengths275,emissivePowerFilter275,'*')\n",
        "plt.xlim(0,0.00013)\n",
        "#plt.ylim(0,70000)\n",
        "plt.ylim(0,6e5)"
      ],
      "execution_count": null,
      "outputs": [
        {
          "output_type": "execute_result",
          "data": {
            "text/plain": [
              "(0.0, 600000.0)"
            ]
          },
          "metadata": {
            "tags": []
          },
          "execution_count": 7
        },
        {
          "output_type": "display_data",
          "data": {
            "image/png": "[encoded data removed]",
            "text/plain": [
              "<Figure size 432x288 with 1 Axes>"
            ]
          },
          "metadata": {
            "tags": [],
            "needs_background": "light"
          }
        }
      ]
    },
    {
      "cell_type": "code",
      "metadata": {
        "id": "zDuh-NxqN1Jf",
        "colab": {
          "base_uri": "https://localhost:8080/"
        },
        "outputId": "626ed653-0ca3-4925-d7d1-86ab038493dc"
      },
      "source": [
        "xLowerBound=0.0000001\n",
        "xUpperBound=0.00013\n",
        "yMax=700000\n",
        "count=0.0\n",
        "countFilter=0.0\n",
        "x=0.0\n",
        "Etop=2*(6.63e-34)*((3e8)*(3e8))\n",
        "xCoordIn=[]\n",
        "yCoordIn=[]\n",
        "xCoordFilter=[]\n",
        "yCoordFilter=[]\n",
        "xCoordOut=[]\n",
        "yCoordOut=[]\n",
        "\n",
        "while x<10000000:\n",
        "  xCoord=random.uniform(xLowerBound, xUpperBound)\n",
        "  yCoord=random.uniform(0,yMax)\n",
        "  exponentTerm3=(6.63*math.pow(10,-34)*3.00*math.pow(10,8))/(xCoord*1.3805*math.pow(10,-23)*temp)\n",
        "  Ebot=(xCoord**5)*(np.exp(exponentTerm3)-1)\n",
        "  #filter=0.8025+(0.1004*xCoord)-(0.005953*(xCoord**2))+(1.5781e-6*(xCoord**3))-(1.86e-9*(xCoord**4))+(7.428e-13*(xCoord**5))\n",
        "  filter=-1.297*(np.exp(-5900*xCoord))+1.3  \n",
        "\n",
        "  if xCoord>0.001:\n",
        "    filter=1\n",
        "  if filter>1:\n",
        "    filter=1\n",
        "  functionValue=Etop/Ebot\n",
        "  functionFilter=functionValue*filter\n",
        "  if functionFilter<0:\n",
        "    functionFilter=0\n",
        "  #print(xCoord, yCoord, functionValue, functionFilter)\n",
        "\n",
        "  x=x+1\n",
        "  if yCoord<=functionFilter:\n",
        "    countFilter=countFilter+1\n",
        "    count=count+1\n",
        "    #print(xCoord, yCoord, functionValue)\n",
        "\n",
        "    #print (count)\n",
        "    #print (x)\n",
        "    xCoordFilter.append(xCoord)\n",
        "    yCoordFilter.append(yCoord)\n",
        "  elif yCoord<=functionValue:\n",
        "    count=count+1\n",
        "    xCoordIn.append(xCoord)\n",
        "    yCoordIn.append(yCoord)\n",
        "  else:\n",
        "    xCoordOut.append(xCoord)\n",
        "    yCoordOut.append(yCoord)\n",
        "  \n",
        "ratioFilter=countFilter/x\n",
        "ratio=count/x\n",
        "resultFilter=(xUpperBound-xLowerBound)*(yMax)*ratioFilter\n",
        "print (resultFilter)\n",
        "result=(xUpperBound-xLowerBound)*(yMax)*ratio\n",
        "print(result)\n"
      ],
      "execution_count": null,
      "outputs": [
        {
          "output_type": "stream",
          "text": [
            "13.970012363999997\n",
            "31.008475763999996\n"
          ],
          "name": "stdout"
        }
      ]
    },
    {
      "cell_type": "code",
      "metadata": {
        "id": "62nbFXkKFa0u"
      },
      "source": [
        ""
      ],
      "execution_count": null,
      "outputs": []
    },
    {
      "cell_type": "code",
      "metadata": {
        "colab": {
          "base_uri": "https://localhost:8080/",
          "height": 296
        },
        "id": "tKjfyDHFes5N",
        "outputId": "7214b81e-ab25-46cd-e475-c0726031c59b"
      },
      "source": [
        "plt.plot(xCoordIn,yCoordIn,'.',color='orange')\n",
        "plt.plot(xCoordFilter,yCoordFilter,'.', color='red')\n",
        "plt.plot(xCoordOut,yCoordOut,'.', color='blue')\n",
        "#plt.ylim(0, 1.7e-29)\n",
        "plt.xlabel('Meters')\n",
        "plt.ylabel('Spectral Radiance (W/m^3)')\n",
        "plt.xlim(0,0.00013)\n",
        "#title=' K Integrated from 125GHz to 165GHz'"
      ],
      "execution_count": null,
      "outputs": [
        {
          "output_type": "execute_result",
          "data": {
            "text/plain": [
              "(0.0, 0.00013)"
            ]
          },
          "metadata": {
            "tags": []
          },
          "execution_count": 9
        },
        {
          "output_type": "display_data",
          "data": {
            "image/png": "[encoded data removed]",
            "text/plain": [
              "<Figure size 432x288 with 1 Axes>"
            ]
          },
          "metadata": {
            "tags": [],
            "needs_background": "light"
          }
        }
      ]
    },
    {
      "cell_type": "code",
      "metadata": {
        "id": "cpeYwYZhq7w_"
      },
      "source": [
        "temp=265\n",
        "i=0.000001\n",
        "#i=-1\n",
        "wavelengths265=[]\n",
        "emissivePower265=[]\n",
        "emissivePowerFilter265=[]\n",
        "#emissivePower=[]\n",
        "Etop=2*(6.63e-34)*((3e8)*(3e8))\n",
        "#print (Etop)\n",
        "while i<1:\n",
        "  #j=i*math.pow(10,6)\n",
        "  wavelengths265.append(i)\n",
        "  exponentTerm3=(6.63e-34*3.00e8)/((i*1.3805e-23)*temp)\n",
        "  Ebot=math.pow(i,5)*(np.exp(exponentTerm3)-1)\n",
        "  E=Etop/Ebot\n",
        "  #filter=0.8025+(0.1004*i)-(0.005953*(i**2))+(1.5781e-6*(i**3))-(1.86e-9*(i**4))+(7.428e-13*(i**5))\n",
        "  filter=-1.297*(np.exp(-5900*i))+1.3  \n",
        "  if i>0.003:\n",
        "    filter=1\n",
        "  if filter>1:\n",
        "    filter=1\n",
        "    \n",
        "  emissivePower265.append(E)\n",
        "  Efilter=E*filter\n",
        "  #if Efilter<0:\n",
        "    #Efilter=0\n",
        "  emissivePowerFilter265.append(Efilter)\n",
        "  i=i+0.00000005\n",
        "\n"
      ],
      "execution_count": null,
      "outputs": []
    },
    {
      "cell_type": "code",
      "metadata": {
        "id": "qULL8atQJ6-D"
      },
      "source": [
        ""
      ],
      "execution_count": null,
      "outputs": []
    },
    {
      "cell_type": "code",
      "metadata": {
        "colab": {
          "base_uri": "https://localhost:8080/",
          "height": 282
        },
        "id": "LJYj7qnUrGDI",
        "outputId": "41c30045-444e-4404-d378-d68447ace9a5"
      },
      "source": [
        "#plt.plot(wavelengths265,emissivePower265,'.')\n",
        "plt.plot(wavelengths265,emissivePowerFilter265,'*')\n",
        "plt.xlim(0,0.00013)\n",
        "#plt.ylim(0,70000)\n",
        "#plt.ylim(0,6e5)"
      ],
      "execution_count": null,
      "outputs": [
        {
          "output_type": "execute_result",
          "data": {
            "text/plain": [
              "(0.0, 0.00013)"
            ]
          },
          "metadata": {
            "tags": []
          },
          "execution_count": 5
        },
        {
          "output_type": "display_data",
          "data": {
            "image/png": "[encoded data removed]",
            "text/plain": [
              "<Figure size 432x288 with 1 Axes>"
            ]
          },
          "metadata": {
            "tags": [],
            "needs_background": "light"
          }
        }
      ]
    },
    {
      "cell_type": "code",
      "metadata": {
        "colab": {
          "base_uri": "https://localhost:8080/",
          "height": 330
        },
        "id": "7redLZ9MFcV7",
        "outputId": "27e0cb84-63ad-4ca5-fb30-e83aa2b0cced"
      },
      "source": [
        "xLowerBound=0.0000001\n",
        "xUpperBound=0.00013\n",
        "yMax=600000\n",
        "count=0.0\n",
        "countFilter=0.0\n",
        "x=0.0\n",
        "Etop=2*(6.63e-34)*((3e8)*(3e8))\n",
        "xCoordIn=[]\n",
        "yCoordIn=[]\n",
        "xCoordFilter=[]\n",
        "yCoordFilter=[]\n",
        "xCoordOut=[]\n",
        "yCoordOut=[]\n",
        "\n",
        "while x<10000000:\n",
        "  xCoord=random.uniform(xLowerBound, xUpperBound)\n",
        "  yCoord=random.uniform(0,yMax)\n",
        "  exponentTerm3=(6.63*math.pow(10,-34)*3.00*math.pow(10,8))/(xCoord*1.3805*math.pow(10,-23)*temp)\n",
        "  Ebot=(xCoord**5)*(np.exp(exponentTerm3)-1)\n",
        "  #filter=0.8025+(0.1004*xCoord)-(0.005953*(xCoord**2))+(1.5781e-6*(xCoord**3))-(1.86e-9*(xCoord**4))+(7.428e-13*(xCoord**5))\n",
        "  filter=-1.297*(np.exp(-5900*xCoord))+1.3  \n",
        "\n",
        "  if xCoord>0.003:\n",
        "    filter=1\n",
        "  if filter>1:\n",
        "    filter=1\n",
        "  functionValue=Etop/Ebot\n",
        "  functionFilter=functionValue*filter\n",
        "  if functionFilter<0:\n",
        "    functionFilter=0\n",
        "  #print(xCoord, yCoord, functionValue, functionFilter)\n",
        "\n",
        "  x=x+1\n",
        "  if yCoord<=functionFilter:\n",
        "    countFilter=countFilter+1\n",
        "    count=count+1\n",
        "    #print(xCoord, yCoord, functionValue)\n",
        "\n",
        "    #print (count)\n",
        "    #print (x)\n",
        "    xCoordFilter.append(xCoord)\n",
        "    yCoordFilter.append(yCoord)\n",
        "  elif yCoord<=functionValue:\n",
        "    count=count+1\n",
        "    xCoordIn.append(xCoord)\n",
        "    yCoordIn.append(yCoord)\n",
        "  else:\n",
        "    xCoordOut.append(xCoord)\n",
        "    yCoordOut.append(yCoord)\n",
        "  \n",
        "ratioFilter=countFilter/x\n",
        "ratio=count/x\n",
        "resultFilter=(xUpperBound-xLowerBound)*(yMax)*ratioFilter\n",
        "print (resultFilter)\n",
        "result=(xUpperBound-xLowerBound)*(yMax)*ratio\n",
        "print(result)\n",
        "\n",
        "\n",
        "\n",
        "plt.plot(xCoordIn,yCoordIn,'.',color='orange')\n",
        "plt.plot(xCoordFilter,yCoordFilter,'.', color='red')\n",
        "plt.plot(xCoordOut,yCoordOut,'.', color='blue')\n",
        "#plt.ylim(0, 1.7e-29)\n",
        "plt.xlabel('Meters')\n",
        "plt.ylabel('Spectral Radiance (W/m^3)')\n",
        "plt.xlim(0,0.00013)\n",
        "#title=' K Integrated from 125GHz to 165GHz'"
      ],
      "execution_count": null,
      "outputs": [
        {
          "output_type": "stream",
          "text": [
            "12.427852554\n",
            "27.269506907999997\n"
          ],
          "name": "stdout"
        },
        {
          "output_type": "execute_result",
          "data": {
            "text/plain": [
              "(0.0, 0.00013)"
            ]
          },
          "metadata": {
            "tags": []
          },
          "execution_count": 6
        },
        {
          "output_type": "display_data",
          "data": {
            "image/png": "[encoded data removed]",
            "text/plain": [
              "<Figure size 432x288 with 1 Axes>"
            ]
          },
          "metadata": {
            "tags": [],
            "needs_background": "light"
          }
        }
      ]
    },
    {
      "cell_type": "code",
      "metadata": {
        "id": "D4qJzM79J8UQ"
      },
      "source": [
        "temp=255\n",
        "i=0.000001\n",
        "#i=-1\n",
        "wavelengths255=[]\n",
        "emissivePower255=[]\n",
        "emissivePowerFilter255=[]\n",
        "#emissivePower=[]\n",
        "Etop=2*(6.63e-34)*((3e8)*(3e8))\n",
        "#print (Etop)\n",
        "while i<1:\n",
        "  #j=i*math.pow(10,6)\n",
        "  wavelengths255.append(i)\n",
        "  exponentTerm3=(6.63e-34*3.00e8)/((i*1.3805e-23)*temp)\n",
        "  Ebot=math.pow(i,5)*(np.exp(exponentTerm3)-1)\n",
        "  E=Etop/Ebot\n",
        "  #filter=0.8025+(0.1004*i)-(0.005953*(i**2))+(1.5781e-6*(i**3))-(1.86e-9*(i**4))+(7.428e-13*(i**5))\n",
        "  filter=-1.297*(np.exp(-5900*i))+1.3  \n",
        "  if i>0.003:\n",
        "    filter=1\n",
        "  if filter>1:\n",
        "    filter=1\n",
        "    \n",
        "  emissivePower255.append(E)\n",
        "  Efilter=E*filter\n",
        "  #if Efilter<0:\n",
        "    #Efilter=0\n",
        "  emissivePowerFilter255.append(Efilter)\n",
        "  i=i+0.00000005\n",
        "\n"
      ],
      "execution_count": null,
      "outputs": []
    },
    {
      "cell_type": "code",
      "metadata": {
        "colab": {
          "base_uri": "https://localhost:8080/",
          "height": 282
        },
        "id": "HYzyJEPaM1Lk",
        "outputId": "6846cc46-ca4b-45c1-c183-b270b27d5d62"
      },
      "source": [
        "#plt.plot(wavelengths265,emissivePower265,'.')\n",
        "plt.plot(wavelengths255,emissivePowerFilter255,'*')\n",
        "plt.xlim(0,0.00013)\n",
        "#plt.ylim(0,70000)\n",
        "#plt.ylim(0,6e5)"
      ],
      "execution_count": null,
      "outputs": [
        {
          "output_type": "execute_result",
          "data": {
            "text/plain": [
              "(0.0, 0.00013)"
            ]
          },
          "metadata": {
            "tags": []
          },
          "execution_count": 3
        },
        {
          "output_type": "display_data",
          "data": {
            "image/png": "[encoded data removed]",
            "text/plain": [
              "<Figure size 432x288 with 1 Axes>"
            ]
          },
          "metadata": {
            "tags": [],
            "needs_background": "light"
          }
        }
      ]
    },
    {
      "cell_type": "code",
      "metadata": {
        "colab": {
          "base_uri": "https://localhost:8080/",
          "height": 330
        },
        "id": "8Y-MznAzOmf5",
        "outputId": "b3e4ef69-9941-4a76-cad1-007d535bd22f"
      },
      "source": [
        "xLowerBound=0.0000001\n",
        "xUpperBound=0.00013\n",
        "yMax=500000\n",
        "count=0.0\n",
        "countFilter=0.0\n",
        "x=0.0\n",
        "Etop=2*(6.63e-34)*((3e8)*(3e8))\n",
        "xCoordIn=[]\n",
        "yCoordIn=[]\n",
        "xCoordFilter=[]\n",
        "yCoordFilter=[]\n",
        "xCoordOut=[]\n",
        "yCoordOut=[]\n",
        "\n",
        "while x<10000000:\n",
        "  xCoord=random.uniform(xLowerBound, xUpperBound)\n",
        "  yCoord=random.uniform(0,yMax)\n",
        "  exponentTerm3=(6.63*math.pow(10,-34)*3.00*math.pow(10,8))/(xCoord*1.3805*math.pow(10,-23)*temp)\n",
        "  Ebot=(xCoord**5)*(np.exp(exponentTerm3)-1)\n",
        "  #filter=0.8025+(0.1004*xCoord)-(0.005953*(xCoord**2))+(1.5781e-6*(xCoord**3))-(1.86e-9*(xCoord**4))+(7.428e-13*(xCoord**5))\n",
        "  filter=-1.297*(np.exp(-5900*xCoord))+1.3  \n",
        "\n",
        "  if xCoord>0.003:\n",
        "    filter=1\n",
        "  if filter>1:\n",
        "    filter=1\n",
        "  functionValue=Etop/Ebot\n",
        "  functionFilter=functionValue*filter\n",
        "  if functionFilter<0:\n",
        "    functionFilter=0\n",
        "  #print(xCoord, yCoord, functionValue, functionFilter)\n",
        "\n",
        "  x=x+1\n",
        "  if yCoord<=functionFilter:\n",
        "    countFilter=countFilter+1\n",
        "    count=count+1\n",
        "    #print(xCoord, yCoord, functionValue)\n",
        "\n",
        "    #print (count)\n",
        "    #print (x)\n",
        "    xCoordFilter.append(xCoord)\n",
        "    yCoordFilter.append(yCoord)\n",
        "  elif yCoord<=functionValue:\n",
        "    count=count+1\n",
        "    xCoordIn.append(xCoord)\n",
        "    yCoordIn.append(yCoord)\n",
        "  else:\n",
        "    xCoordOut.append(xCoord)\n",
        "    yCoordOut.append(yCoord)\n",
        "  \n",
        "ratioFilter=countFilter/x\n",
        "ratio=count/x\n",
        "resultFilter=(xUpperBound-xLowerBound)*(yMax)*ratioFilter\n",
        "print (resultFilter)\n",
        "result=(xUpperBound-xLowerBound)*(yMax)*ratio\n",
        "print(result)\n",
        "\n",
        "\n",
        "\n",
        "plt.plot(xCoordIn,yCoordIn,'.',color='orange')\n",
        "plt.plot(xCoordFilter,yCoordFilter,'.', color='red')\n",
        "plt.plot(xCoordOut,yCoordOut,'.', color='blue')\n",
        "#plt.ylim(0, 1.7e-29)\n",
        "plt.xlabel('Meters')\n",
        "plt.ylabel('Spectral Radiance (W/m^3)')\n",
        "plt.xlim(0,0.00013)\n",
        "#title=' K Integrated from 125GHz to 165GHz'"
      ],
      "execution_count": null,
      "outputs": [
        {
          "output_type": "stream",
          "text": [
            "11.016637139999998\n",
            "23.507860109999996\n"
          ],
          "name": "stdout"
        },
        {
          "output_type": "execute_result",
          "data": {
            "text/plain": [
              "(0.0, 0.00013)"
            ]
          },
          "metadata": {
            "tags": []
          },
          "execution_count": 4
        },
        {
          "output_type": "display_data",
          "data": {
            "image/png": "[encoded data removed]",
            "text/plain": [
              "<Figure size 432x288 with 1 Axes>"
            ]
          },
          "metadata": {
            "tags": [],
            "needs_background": "light"
          }
        }
      ]
    },
    {
      "cell_type": "code",
      "metadata": {
        "id": "uA3jXOMiR-Ad"
      },
      "source": [
        "temp=245\n",
        "i=0.000001\n",
        "#i=-1\n",
        "wavelengths245=[]\n",
        "emissivePower245=[]\n",
        "emissivePowerFilter245=[]\n",
        "#emissivePower=[]\n",
        "Etop=2*(6.63e-34)*((3e8)*(3e8))\n",
        "#print (Etop)\n",
        "while i<1:\n",
        "  #j=i*math.pow(10,6)\n",
        "  wavelengths245.append(i)\n",
        "  exponentTerm3=(6.63e-34*3.00e8)/((i*1.3805e-23)*temp)\n",
        "  Ebot=math.pow(i,5)*(np.exp(exponentTerm3)-1)\n",
        "  E=Etop/Ebot\n",
        "  #filter=0.8025+(0.1004*i)-(0.005953*(i**2))+(1.5781e-6*(i**3))-(1.86e-9*(i**4))+(7.428e-13*(i**5))\n",
        "  filter=-1.297*(np.exp(-5900*i))+1.3  \n",
        "  if i>0.003:\n",
        "    filter=1\n",
        "  if filter>1:\n",
        "    filter=1\n",
        "    \n",
        "  emissivePower245.append(E)\n",
        "  Efilter=E*filter\n",
        "  #if Efilter<0:\n",
        "    #Efilter=0\n",
        "  emissivePowerFilter245.append(Efilter)\n",
        "  i=i+0.00000005\n",
        "\n"
      ],
      "execution_count": null,
      "outputs": []
    },
    {
      "cell_type": "code",
      "metadata": {
        "colab": {
          "base_uri": "https://localhost:8080/",
          "height": 282
        },
        "id": "fSvGEiXiSiu8",
        "outputId": "b7639e80-a28d-42a5-d4b0-58b90e269ce0"
      },
      "source": [
        "#plt.plot(wavelengths265,emissivePower265,'.')\n",
        "plt.plot(wavelengths245,emissivePowerFilter245,'*')\n",
        "plt.xlim(0,0.00013)\n",
        "#plt.ylim(0,70000)\n",
        "#plt.ylim(0,6e5)"
      ],
      "execution_count": null,
      "outputs": [
        {
          "output_type": "execute_result",
          "data": {
            "text/plain": [
              "(0.0, 0.00013)"
            ]
          },
          "metadata": {
            "tags": []
          },
          "execution_count": 7
        },
        {
          "output_type": "display_data",
          "data": {
            "image/png": "[encoded data removed]",
            "text/plain": [
              "<Figure size 432x288 with 1 Axes>"
            ]
          },
          "metadata": {
            "tags": [],
            "needs_background": "light"
          }
        }
      ]
    },
    {
      "cell_type": "code",
      "metadata": {
        "colab": {
          "base_uri": "https://localhost:8080/",
          "height": 330
        },
        "id": "hsGIgf4mTRhL",
        "outputId": "43c9c17e-bc76-4ad5-daf7-5860cc30e5f6"
      },
      "source": [
        "xLowerBound=0.0000001\n",
        "xUpperBound=0.00013\n",
        "yMax=400000\n",
        "count=0.0\n",
        "countFilter=0.0\n",
        "x=0.0\n",
        "Etop=2*(6.63e-34)*((3e8)*(3e8))\n",
        "xCoordIn=[]\n",
        "yCoordIn=[]\n",
        "xCoordFilter=[]\n",
        "yCoordFilter=[]\n",
        "xCoordOut=[]\n",
        "yCoordOut=[]\n",
        "\n",
        "while x<10000000:\n",
        "  xCoord=random.uniform(xLowerBound, xUpperBound)\n",
        "  yCoord=random.uniform(0,yMax)\n",
        "  exponentTerm3=(6.63*math.pow(10,-34)*3.00*math.pow(10,8))/(xCoord*1.3805*math.pow(10,-23)*temp)\n",
        "  Ebot=(xCoord**5)*(np.exp(exponentTerm3)-1)\n",
        "  #filter=0.8025+(0.1004*xCoord)-(0.005953*(xCoord**2))+(1.5781e-6*(xCoord**3))-(1.86e-9*(xCoord**4))+(7.428e-13*(xCoord**5))\n",
        "  filter=-1.297*(np.exp(-5900*xCoord))+1.3  \n",
        "\n",
        "  if xCoord>0.003:\n",
        "    filter=1\n",
        "  if filter>1:\n",
        "    filter=1\n",
        "  functionValue=Etop/Ebot\n",
        "  functionFilter=functionValue*filter\n",
        "  if functionFilter<0:\n",
        "    functionFilter=0\n",
        "  #print(xCoord, yCoord, functionValue, functionFilter)\n",
        "\n",
        "  x=x+1\n",
        "  if yCoord<=functionFilter:\n",
        "    countFilter=countFilter+1\n",
        "    count=count+1\n",
        "    #print(xCoord, yCoord, functionValue)\n",
        "\n",
        "    #print (count)\n",
        "    #print (x)\n",
        "    xCoordFilter.append(xCoord)\n",
        "    yCoordFilter.append(yCoord)\n",
        "  elif yCoord<=functionValue:\n",
        "    count=count+1\n",
        "    xCoordIn.append(xCoord)\n",
        "    yCoordIn.append(yCoord)\n",
        "  else:\n",
        "    xCoordOut.append(xCoord)\n",
        "    yCoordOut.append(yCoord)\n",
        "  \n",
        "ratioFilter=countFilter/x\n",
        "ratio=count/x\n",
        "resultFilter=(xUpperBound-xLowerBound)*(yMax)*ratioFilter\n",
        "print (resultFilter)\n",
        "result=(xUpperBound-xLowerBound)*(yMax)*ratio\n",
        "print(result)\n",
        "\n",
        "\n",
        "\n",
        "plt.plot(xCoordIn,yCoordIn,'.',color='orange')\n",
        "plt.plot(xCoordFilter,yCoordFilter,'.', color='red')\n",
        "plt.plot(xCoordOut,yCoordOut,'.', color='blue')\n",
        "#plt.ylim(0, 1.7e-29)\n",
        "plt.xlabel('Meters')\n",
        "plt.ylabel('Spectral Radiance (W/m^3)')\n",
        "plt.xlim(0,0.00013)\n",
        "#title=' K Integrated from 125GHz to 165GHz'"
      ],
      "execution_count": null,
      "outputs": [
        {
          "output_type": "stream",
          "text": [
            "9.71381808\n",
            "19.701969371999997\n"
          ],
          "name": "stdout"
        },
        {
          "output_type": "execute_result",
          "data": {
            "text/plain": [
              "(0.0, 0.00013)"
            ]
          },
          "metadata": {
            "tags": []
          },
          "execution_count": 8
        },
        {
          "output_type": "display_data",
          "data": {
            "image/png": "[encoded data removed]",
            "text/plain": [
              "<Figure size 432x288 with 1 Axes>"
            ]
          },
          "metadata": {
            "tags": [],
            "needs_background": "light"
          }
        }
      ]
    },
    {
      "cell_type": "code",
      "metadata": {
        "id": "c8itdL0H_H12"
      },
      "source": [
        "temp=235\n",
        "i=0.000001\n",
        "#i=-1\n",
        "wavelengths235=[]\n",
        "emissivePower235=[]\n",
        "emissivePowerFilter235=[]\n",
        "#emissivePower=[]\n",
        "Etop=2*(6.63e-34)*((3e8)*(3e8))\n",
        "#print (Etop)\n",
        "while i<1:\n",
        "  #j=i*math.pow(10,6)\n",
        "  wavelengths235.append(i)\n",
        "  exponentTerm3=(6.63e-34*3.00e8)/((i*1.3805e-23)*temp)\n",
        "  Ebot=math.pow(i,5)*(np.exp(exponentTerm3)-1)\n",
        "  E=Etop/Ebot\n",
        "  #filter=0.8025+(0.1004*i)-(0.005953*(i**2))+(1.5781e-6*(i**3))-(1.86e-9*(i**4))+(7.428e-13*(i**5))\n",
        "  filter=-1.297*(np.exp(-5900*i))+1.3  \n",
        "  if i>0.003:\n",
        "    filter=1\n",
        "  if filter>1:\n",
        "    filter=1\n",
        "    \n",
        "  emissivePower235.append(E)\n",
        "  Efilter=E*filter\n",
        "  #if Efilter<0:\n",
        "    #Efilter=0\n",
        "  emissivePowerFilter235.append(Efilter)\n",
        "  i=i+0.00000005\n",
        "\n"
      ],
      "execution_count": null,
      "outputs": []
    },
    {
      "cell_type": "code",
      "metadata": {
        "colab": {
          "base_uri": "https://localhost:8080/",
          "height": 282
        },
        "id": "v5EbeVau_Pox",
        "outputId": "c441c1c3-adf0-4b49-9c44-57ebcde1ab8f"
      },
      "source": [
        "#plt.plot(wavelengths265,emissivePower265,'.')\n",
        "plt.plot(wavelengths235,emissivePowerFilter235,'*')\n",
        "plt.xlim(0,0.00015)\n",
        "#plt.ylim(0,70000)\n",
        "#plt.ylim(0,6e5)"
      ],
      "execution_count": null,
      "outputs": [
        {
          "output_type": "execute_result",
          "data": {
            "text/plain": [
              "(0.0, 0.00015)"
            ]
          },
          "metadata": {
            "tags": []
          },
          "execution_count": 4
        },
        {
          "output_type": "display_data",
          "data": {
            "image/png": "[encoded data removed]",
            "text/plain": [
              "<Figure size 432x288 with 1 Axes>"
            ]
          },
          "metadata": {
            "tags": [],
            "needs_background": "light"
          }
        }
      ]
    },
    {
      "cell_type": "code",
      "metadata": {
        "colab": {
          "base_uri": "https://localhost:8080/",
          "height": 330
        },
        "id": "jmRkFMwl_S3W",
        "outputId": "c1a3a073-4aa0-4a3e-c194-59c64ba1e03f"
      },
      "source": [
        "xLowerBound=0.0000001\n",
        "xUpperBound=0.00015\n",
        "yMax=400000\n",
        "count=0.0\n",
        "countFilter=0.0\n",
        "x=0.0\n",
        "Etop=2*(6.63e-34)*((3e8)*(3e8))\n",
        "xCoordIn=[]\n",
        "yCoordIn=[]\n",
        "xCoordFilter=[]\n",
        "yCoordFilter=[]\n",
        "xCoordOut=[]\n",
        "yCoordOut=[]\n",
        "\n",
        "while x<10000000:\n",
        "  xCoord=random.uniform(xLowerBound, xUpperBound)\n",
        "  yCoord=random.uniform(0,yMax)\n",
        "  exponentTerm3=(6.63*math.pow(10,-34)*3.00*math.pow(10,8))/(xCoord*1.3805*math.pow(10,-23)*temp)\n",
        "  Ebot=(xCoord**5)*(np.exp(exponentTerm3)-1)\n",
        "  #filter=0.8025+(0.1004*xCoord)-(0.005953*(xCoord**2))+(1.5781e-6*(xCoord**3))-(1.86e-9*(xCoord**4))+(7.428e-13*(xCoord**5))\n",
        "  filter=-1.297*(np.exp(-5900*xCoord))+1.3  \n",
        "\n",
        "  if xCoord>0.003:\n",
        "    filter=1\n",
        "  if filter>1:\n",
        "    filter=1\n",
        "  functionValue=Etop/Ebot\n",
        "  functionFilter=functionValue*filter\n",
        "  if functionFilter<0:\n",
        "    functionFilter=0\n",
        "  #print(xCoord, yCoord, functionValue, functionFilter)\n",
        "\n",
        "  x=x+1\n",
        "  if yCoord<=functionFilter:\n",
        "    countFilter=countFilter+1\n",
        "    count=count+1\n",
        "    #print(xCoord, yCoord, functionValue)\n",
        "\n",
        "    #print (count)\n",
        "    #print (x)\n",
        "    xCoordFilter.append(xCoord)\n",
        "    yCoordFilter.append(yCoord)\n",
        "  elif yCoord<=functionValue:\n",
        "    count=count+1\n",
        "    xCoordIn.append(xCoord)\n",
        "    yCoordIn.append(yCoord)\n",
        "  else:\n",
        "    xCoordOut.append(xCoord)\n",
        "    yCoordOut.append(yCoord)\n",
        "  \n",
        "ratioFilter=countFilter/x\n",
        "ratio=count/x\n",
        "resultFilter=(xUpperBound-xLowerBound)*(yMax)*ratioFilter\n",
        "print (resultFilter)\n",
        "result=(xUpperBound-xLowerBound)*(yMax)*ratio\n",
        "print(result)\n",
        "\n",
        "\n",
        "\n",
        "plt.plot(xCoordIn,yCoordIn,'.',color='orange')\n",
        "plt.plot(xCoordFilter,yCoordFilter,'.', color='red')\n",
        "plt.plot(xCoordOut,yCoordOut,'.', color='blue')\n",
        "#plt.ylim(0, 1.7e-29)\n",
        "plt.xlabel('Meters')\n",
        "plt.ylabel('Spectral Radiance (W/m^3)')\n",
        "plt.xlim(0,0.00013)\n",
        "#title=' K Integrated from 125GHz to 165GHz'"
      ],
      "execution_count": null,
      "outputs": [
        {
          "output_type": "stream",
          "text": [
            "8.570694391999998\n",
            "19.204486468\n"
          ],
          "name": "stdout"
        },
        {
          "output_type": "execute_result",
          "data": {
            "text/plain": [
              "(0.0, 0.00013)"
            ]
          },
          "metadata": {
            "tags": []
          },
          "execution_count": 5
        },
        {
          "output_type": "display_data",
          "data": {
            "image/png": "[encoded data removed]",
            "text/plain": [
              "<Figure size 432x288 with 1 Axes>"
            ]
          },
          "metadata": {
            "tags": [],
            "needs_background": "light"
          }
        }
      ]
    },
    {
      "cell_type": "code",
      "metadata": {
        "id": "Ba6aZI5uAHYK"
      },
      "source": [
        "temp=222.5\n",
        "i=0.000001\n",
        "#i=-1\n",
        "wavelengths222=[]\n",
        "emissivePower222=[]\n",
        "emissivePowerFilter222=[]\n",
        "#emissivePower=[]\n",
        "Etop=2*(6.63e-34)*((3e8)*(3e8))\n",
        "#print (Etop)\n",
        "while i<1:\n",
        "  #j=i*math.pow(10,6)\n",
        "  wavelengths222.append(i)\n",
        "  exponentTerm3=(6.63e-34*3.00e8)/((i*1.3805e-23)*temp)\n",
        "  Ebot=math.pow(i,5)*(np.exp(exponentTerm3)-1)\n",
        "  E=Etop/Ebot\n",
        "  #filter=0.8025+(0.1004*i)-(0.005953*(i**2))+(1.5781e-6*(i**3))-(1.86e-9*(i**4))+(7.428e-13*(i**5))\n",
        "  filter=-1.297*(np.exp(-5900*i))+1.3  \n",
        "  if i>0.003:\n",
        "    filter=1\n",
        "  if filter>1:\n",
        "    filter=1\n",
        "    \n",
        "  emissivePower222.append(E)\n",
        "  Efilter=E*filter\n",
        "  #if Efilter<0:\n",
        "    #Efilter=0\n",
        "  emissivePowerFilter222.append(Efilter)\n",
        "  i=i+0.00000005\n"
      ],
      "execution_count": null,
      "outputs": []
    },
    {
      "cell_type": "code",
      "metadata": {
        "colab": {
          "base_uri": "https://localhost:8080/",
          "height": 282
        },
        "id": "6YXmqjT_AQKv",
        "outputId": "d6b23321-9e1d-444b-bd90-5dd5671f7bac"
      },
      "source": [
        "#plt.plot(wavelengths265,emissivePower265,'.')\n",
        "plt.plot(wavelengths222,emissivePowerFilter222,'*')\n",
        "plt.xlim(0,0.00015)\n",
        "#plt.ylim(0,70000)\n",
        "#plt.ylim(0,6e5)"
      ],
      "execution_count": null,
      "outputs": [
        {
          "output_type": "execute_result",
          "data": {
            "text/plain": [
              "(0.0, 0.00015)"
            ]
          },
          "metadata": {
            "tags": []
          },
          "execution_count": 7
        },
        {
          "output_type": "display_data",
          "data": {
            "image/png": "[encoded data removed]",
            "text/plain": [
              "<Figure size 432x288 with 1 Axes>"
            ]
          },
          "metadata": {
            "tags": [],
            "needs_background": "light"
          }
        }
      ]
    },
    {
      "cell_type": "code",
      "metadata": {
        "colab": {
          "base_uri": "https://localhost:8080/",
          "height": 330
        },
        "id": "dAIvOO1OAT7W",
        "outputId": "1edd1d11-933d-4593-ab41-aa62f57598ac"
      },
      "source": [
        "xLowerBound=0.0000001\n",
        "xUpperBound=0.00015\n",
        "yMax=350000\n",
        "count=0.0\n",
        "countFilter=0.0\n",
        "x=0.0\n",
        "Etop=2*(6.63e-34)*((3e8)*(3e8))\n",
        "xCoordIn=[]\n",
        "yCoordIn=[]\n",
        "xCoordFilter=[]\n",
        "yCoordFilter=[]\n",
        "xCoordOut=[]\n",
        "yCoordOut=[]\n",
        "\n",
        "while x<10000000:\n",
        "  xCoord=random.uniform(xLowerBound, xUpperBound)\n",
        "  yCoord=random.uniform(0,yMax)\n",
        "  exponentTerm3=(6.63*math.pow(10,-34)*3.00*math.pow(10,8))/(xCoord*1.3805*math.pow(10,-23)*temp)\n",
        "  Ebot=(xCoord**5)*(np.exp(exponentTerm3)-1)\n",
        "  #filter=0.8025+(0.1004*xCoord)-(0.005953*(xCoord**2))+(1.5781e-6*(xCoord**3))-(1.86e-9*(xCoord**4))+(7.428e-13*(xCoord**5))\n",
        "  filter=-1.297*(np.exp(-5900*xCoord))+1.3  \n",
        "\n",
        "  if xCoord>0.003:\n",
        "    filter=1\n",
        "  if filter>1:\n",
        "    filter=1\n",
        "  functionValue=Etop/Ebot\n",
        "  functionFilter=functionValue*filter\n",
        "  if functionFilter<0:\n",
        "    functionFilter=0\n",
        "  #print(xCoord, yCoord, functionValue, functionFilter)\n",
        "\n",
        "  x=x+1\n",
        "  if yCoord<=functionFilter:\n",
        "    countFilter=countFilter+1\n",
        "    count=count+1\n",
        "    #print(xCoord, yCoord, functionValue)\n",
        "\n",
        "    #print (count)\n",
        "    #print (x)\n",
        "    xCoordFilter.append(xCoord)\n",
        "    yCoordFilter.append(yCoord)\n",
        "  elif yCoord<=functionValue:\n",
        "    count=count+1\n",
        "    xCoordIn.append(xCoord)\n",
        "    yCoordIn.append(yCoord)\n",
        "  else:\n",
        "    xCoordOut.append(xCoord)\n",
        "    yCoordOut.append(yCoord)\n",
        "  \n",
        "ratioFilter=countFilter/x\n",
        "ratio=count/x\n",
        "resultFilter=(xUpperBound-xLowerBound)*(yMax)*ratioFilter\n",
        "print (resultFilter)\n",
        "result=(xUpperBound-xLowerBound)*(yMax)*ratio\n",
        "print(result)\n",
        "\n",
        "\n",
        "\n",
        "plt.plot(xCoordIn,yCoordIn,'.',color='orange')\n",
        "plt.plot(xCoordFilter,yCoordFilter,'.', color='red')\n",
        "plt.plot(xCoordOut,yCoordOut,'.', color='blue')\n",
        "#plt.ylim(0, 1.7e-29)\n",
        "plt.xlabel('Meters')\n",
        "plt.ylabel('Spectral Radiance (W/m^3)')\n",
        "plt.xlim(0,0.00013)\n",
        "#title=' K Integrated from 125GHz to 165GHz'"
      ],
      "execution_count": null,
      "outputs": [
        {
          "output_type": "stream",
          "text": [
            "7.215049758\n",
            "16.8835990085\n"
          ],
          "name": "stdout"
        },
        {
          "output_type": "execute_result",
          "data": {
            "text/plain": [
              "(0.0, 0.00013)"
            ]
          },
          "metadata": {
            "tags": []
          },
          "execution_count": 8
        },
        {
          "output_type": "display_data",
          "data": {
            "image/png": "[encoded data removed]",
            "text/plain": [
              "<Figure size 432x288 with 1 Axes>"
            ]
          },
          "metadata": {
            "tags": [],
            "needs_background": "light"
          }
        }
      ]
    },
    {
      "cell_type": "code",
      "metadata": {
        "id": "n6L1dJuFAsl1"
      },
      "source": [
        "temp=217\n",
        "i=0.000001\n",
        "#i=-1\n",
        "wavelengths217=[]\n",
        "emissivePower217=[]\n",
        "emissivePowerFilter217=[]\n",
        "#emissivePower=[]\n",
        "Etop=2*(6.63e-34)*((3e8)*(3e8))\n",
        "#print (Etop)\n",
        "while i<1:\n",
        "  #j=i*math.pow(10,6)\n",
        "  wavelengths217.append(i)\n",
        "  exponentTerm3=(6.63e-34*3.00e8)/((i*1.3805e-23)*temp)\n",
        "  Ebot=math.pow(i,5)*(np.exp(exponentTerm3)-1)\n",
        "  E=Etop/Ebot\n",
        "  #filter=0.8025+(0.1004*i)-(0.005953*(i**2))+(1.5781e-6*(i**3))-(1.86e-9*(i**4))+(7.428e-13*(i**5))\n",
        "  filter=-1.297*(np.exp(-5900*i))+1.3  \n",
        "  if i>0.003:\n",
        "    filter=1\n",
        "  if filter>1:\n",
        "    filter=1\n",
        "    \n",
        "  emissivePower217.append(E)\n",
        "  Efilter=E*filter\n",
        "  #if Efilter<0:\n",
        "    #Efilter=0\n",
        "  emissivePowerFilter217.append(Efilter)\n",
        "  i=i+0.00000005\n"
      ],
      "execution_count": null,
      "outputs": []
    },
    {
      "cell_type": "code",
      "metadata": {
        "colab": {
          "base_uri": "https://localhost:8080/",
          "height": 282
        },
        "id": "4z5SKS2EA4ET",
        "outputId": "dd46b442-7f3d-4aaf-bf5a-6947c6008ff3"
      },
      "source": [
        "#plt.plot(wavelengths265,emissivePower265,'.')\n",
        "plt.plot(wavelengths217,emissivePowerFilter217,'*')\n",
        "plt.xlim(0,0.00015)\n",
        "#plt.ylim(0,70000)\n",
        "#plt.ylim(0,6e5)"
      ],
      "execution_count": null,
      "outputs": [
        {
          "output_type": "execute_result",
          "data": {
            "text/plain": [
              "(0.0, 0.00015)"
            ]
          },
          "metadata": {
            "tags": []
          },
          "execution_count": 10
        },
        {
          "output_type": "display_data",
          "data": {
            "image/png": "[encoded data removed]",
            "text/plain": [
              "<Figure size 432x288 with 1 Axes>"
            ]
          },
          "metadata": {
            "tags": [],
            "needs_background": "light"
          }
        }
      ]
    },
    {
      "cell_type": "code",
      "metadata": {
        "colab": {
          "base_uri": "https://localhost:8080/",
          "height": 330
        },
        "id": "e-FpE7rGA7E8",
        "outputId": "55d63170-9c9b-4582-cb42-b5f04c465b0a"
      },
      "source": [
        "xLowerBound=0.0000001\n",
        "xUpperBound=0.00015\n",
        "yMax=250000\n",
        "count=0.0\n",
        "countFilter=0.0\n",
        "x=0.0\n",
        "Etop=2*(6.63e-34)*((3e8)*(3e8))\n",
        "xCoordIn=[]\n",
        "yCoordIn=[]\n",
        "xCoordFilter=[]\n",
        "yCoordFilter=[]\n",
        "xCoordOut=[]\n",
        "yCoordOut=[]\n",
        "\n",
        "while x<10000000:\n",
        "  xCoord=random.uniform(xLowerBound, xUpperBound)\n",
        "  yCoord=random.uniform(0,yMax)\n",
        "  exponentTerm3=(6.63*math.pow(10,-34)*3.00*math.pow(10,8))/(xCoord*1.3805*math.pow(10,-23)*temp)\n",
        "  Ebot=(xCoord**5)*(np.exp(exponentTerm3)-1)\n",
        "  #filter=0.8025+(0.1004*xCoord)-(0.005953*(xCoord**2))+(1.5781e-6*(xCoord**3))-(1.86e-9*(xCoord**4))+(7.428e-13*(xCoord**5))\n",
        "  filter=-1.297*(np.exp(-5900*xCoord))+1.3  \n",
        "\n",
        "  if xCoord>0.003:\n",
        "    filter=1\n",
        "  if filter>1:\n",
        "    filter=1\n",
        "  functionValue=Etop/Ebot\n",
        "  functionFilter=functionValue*filter\n",
        "  if functionFilter<0:\n",
        "    functionFilter=0\n",
        "  #print(xCoord, yCoord, functionValue, functionFilter)\n",
        "\n",
        "  x=x+1\n",
        "  if yCoord<=functionFilter:\n",
        "    countFilter=countFilter+1\n",
        "    count=count+1\n",
        "    #print(xCoord, yCoord, functionValue)\n",
        "\n",
        "    #print (count)\n",
        "    #print (x)\n",
        "    xCoordFilter.append(xCoord)\n",
        "    yCoordFilter.append(yCoord)\n",
        "  elif yCoord<=functionValue:\n",
        "    count=count+1\n",
        "    xCoordIn.append(xCoord)\n",
        "    yCoordIn.append(yCoord)\n",
        "  else:\n",
        "    xCoordOut.append(xCoord)\n",
        "    yCoordOut.append(yCoord)\n",
        "  \n",
        "ratioFilter=countFilter/x\n",
        "ratio=count/x\n",
        "resultFilter=(xUpperBound-xLowerBound)*(yMax)*ratioFilter\n",
        "print (resultFilter)\n",
        "result=(xUpperBound-xLowerBound)*(yMax)*ratio\n",
        "print(result)\n",
        "\n",
        "\n",
        "\n",
        "plt.plot(xCoordIn,yCoordIn,'.',color='orange')\n",
        "plt.plot(xCoordFilter,yCoordFilter,'.', color='red')\n",
        "plt.plot(xCoordOut,yCoordOut,'.', color='blue')\n",
        "#plt.ylim(0, 1.7e-29)\n",
        "plt.xlabel('Meters')\n",
        "plt.ylabel('Spectral Radiance (W/m^3)')\n",
        "plt.xlim(0,0.00013)\n",
        "#title=' K Integrated from 125GHz to 165GHz'"
      ],
      "execution_count": null,
      "outputs": [
        {
          "output_type": "stream",
          "text": [
            "6.668814907499999\n",
            "13.289313297499998\n"
          ],
          "name": "stdout"
        },
        {
          "output_type": "execute_result",
          "data": {
            "text/plain": [
              "(0.0, 0.00013)"
            ]
          },
          "metadata": {
            "tags": []
          },
          "execution_count": 3
        },
        {
          "output_type": "display_data",
          "data": {
            "image/png": "[encoded data removed]",
            "text/plain": [
              "<Figure size 432x288 with 1 Axes>"
            ]
          },
          "metadata": {
            "tags": [],
            "needs_background": "light"
          }
        }
      ]
    },
    {
      "cell_type": "code",
      "metadata": {
        "id": "fFTKzpxUBrWe"
      },
      "source": [
        "temp=190\n",
        "i=0.000001\n",
        "#i=-1\n",
        "wavelengths190=[]\n",
        "emissivePower190=[]\n",
        "emissivePowerFilter190=[]\n",
        "#emissivePower=[]\n",
        "Etop=2*(6.63e-34)*((3e8)*(3e8))\n",
        "#print (Etop)\n",
        "while i<1:\n",
        "  #j=i*math.pow(10,6)\n",
        "  wavelengths190.append(i)\n",
        "  exponentTerm3=(6.63e-34*3.00e8)/((i*1.3805e-23)*temp)\n",
        "  Ebot=math.pow(i,5)*(np.exp(exponentTerm3)-1)\n",
        "  E=Etop/Ebot\n",
        "  #filter=0.8025+(0.1004*i)-(0.005953*(i**2))+(1.5781e-6*(i**3))-(1.86e-9*(i**4))+(7.428e-13*(i**5))\n",
        "  filter=-1.297*(np.exp(-5900*i))+1.3  \n",
        "  if i>0.003:\n",
        "    filter=1\n",
        "  if filter>1:\n",
        "    filter=1\n",
        "    \n",
        "  emissivePower190.append(E)\n",
        "  Efilter=E*filter\n",
        "  #if Efilter<0:\n",
        "    #Efilter=0\n",
        "  emissivePowerFilter190.append(Efilter)\n",
        "  i=i+0.00000005\n"
      ],
      "execution_count": null,
      "outputs": []
    },
    {
      "cell_type": "code",
      "metadata": {
        "colab": {
          "base_uri": "https://localhost:8080/",
          "height": 282
        },
        "id": "rTuMiXVkB6b7",
        "outputId": "7704b9fa-a195-4d04-ed21-86eb25cbcd08"
      },
      "source": [
        "#plt.plot(wavelengths265,emissivePower265,'.')\n",
        "plt.plot(wavelengths190,emissivePowerFilter190,'*')\n",
        "plt.xlim(0,0.00015)\n",
        "#plt.ylim(0,70000)\n",
        "#plt.ylim(0,6e5)"
      ],
      "execution_count": null,
      "outputs": [
        {
          "output_type": "execute_result",
          "data": {
            "text/plain": [
              "(0.0, 0.00015)"
            ]
          },
          "metadata": {
            "tags": []
          },
          "execution_count": 5
        },
        {
          "output_type": "display_data",
          "data": {
            "image/png": "[encoded data removed]",
            "text/plain": [
              "<Figure size 432x288 with 1 Axes>"
            ]
          },
          "metadata": {
            "tags": [],
            "needs_background": "light"
          }
        }
      ]
    },
    {
      "cell_type": "code",
      "metadata": {
        "colab": {
          "base_uri": "https://localhost:8080/",
          "height": 347
        },
        "id": "yIjI_-hwB-el",
        "outputId": "d112ce8b-912a-41d3-9ddd-daf9d98c13bb"
      },
      "source": [
        "xLowerBound=0.0000001\n",
        "xUpperBound=0.00015\n",
        "yMax=250000\n",
        "count=0.0\n",
        "countFilter=0.0\n",
        "x=0.0\n",
        "Etop=2*(6.63e-34)*((3e8)*(3e8))\n",
        "xCoordIn=[]\n",
        "yCoordIn=[]\n",
        "xCoordFilter=[]\n",
        "yCoordFilter=[]\n",
        "xCoordOut=[]\n",
        "yCoordOut=[]\n",
        "\n",
        "while x<10000000:\n",
        "  xCoord=random.uniform(xLowerBound, xUpperBound)\n",
        "  yCoord=random.uniform(0,yMax)\n",
        "  exponentTerm3=(6.63*math.pow(10,-34)*3.00*math.pow(10,8))/(xCoord*1.3805*math.pow(10,-23)*temp)\n",
        "  Ebot=(xCoord**5)*(np.exp(exponentTerm3)-1)\n",
        "  #filter=0.8025+(0.1004*xCoord)-(0.005953*(xCoord**2))+(1.5781e-6*(xCoord**3))-(1.86e-9*(xCoord**4))+(7.428e-13*(xCoord**5))\n",
        "  filter=-1.297*(np.exp(-5900*xCoord))+1.3  \n",
        "\n",
        "  if xCoord>0.003:\n",
        "    filter=1\n",
        "  if filter>1:\n",
        "    filter=1\n",
        "  functionValue=Etop/Ebot\n",
        "  functionFilter=functionValue*filter\n",
        "  if functionFilter<0:\n",
        "    functionFilter=0\n",
        "  #print(xCoord, yCoord, functionValue, functionFilter)\n",
        "\n",
        "  x=x+1\n",
        "  if yCoord<=functionFilter:\n",
        "    countFilter=countFilter+1\n",
        "    count=count+1\n",
        "    #print(xCoord, yCoord, functionValue)\n",
        "\n",
        "    #print (count)\n",
        "    #print (x)\n",
        "    xCoordFilter.append(xCoord)\n",
        "    yCoordFilter.append(yCoord)\n",
        "  elif yCoord<=functionValue:\n",
        "    count=count+1\n",
        "    xCoordIn.append(xCoord)\n",
        "    yCoordIn.append(yCoord)\n",
        "  else:\n",
        "    xCoordOut.append(xCoord)\n",
        "    yCoordOut.append(yCoord)\n",
        "  \n",
        "ratioFilter=countFilter/x\n",
        "ratio=count/x\n",
        "resultFilter=(xUpperBound-xLowerBound)*(yMax)*ratioFilter\n",
        "print (resultFilter)\n",
        "result=(xUpperBound-xLowerBound)*(yMax)*ratio\n",
        "print(result)\n",
        "\n",
        "\n",
        "\n",
        "plt.plot(xCoordIn,yCoordIn,'.',color='orange')\n",
        "plt.plot(xCoordFilter,yCoordFilter,'.', color='red')\n",
        "plt.plot(xCoordOut,yCoordOut,'.', color='blue')\n",
        "#plt.ylim(0, 1.7e-29)\n",
        "plt.xlabel('Meters')\n",
        "plt.ylabel('Spectral Radiance (W/m^3)')\n",
        "plt.xlim(0,0.00013)\n",
        "#title=' K Integrated from 125GHz to 165GHz'"
      ],
      "execution_count": null,
      "outputs": [
        {
          "output_type": "stream",
          "text": [
            "/usr/local/lib/python3.7/dist-packages/ipykernel_launcher.py:19: RuntimeWarning: overflow encountered in exp\n"
          ],
          "name": "stderr"
        },
        {
          "output_type": "stream",
          "text": [
            "4.371316344999999\n",
            "11.91642042\n"
          ],
          "name": "stdout"
        },
        {
          "output_type": "execute_result",
          "data": {
            "text/plain": [
              "(0.0, 0.00013)"
            ]
          },
          "metadata": {
            "tags": []
          },
          "execution_count": 6
        },
        {
          "output_type": "display_data",
          "data": {
            "image/png": "[encoded data removed]",
            "text/plain": [
              "<Figure size 432x288 with 1 Axes>"
            ]
          },
          "metadata": {
            "tags": [],
            "needs_background": "light"
          }
        }
      ]
    },
    {
      "cell_type": "code",
      "metadata": {
        "id": "3wlHELiNCDcL"
      },
      "source": [
        "temp=167.5\n",
        "i=0.000001\n",
        "#i=-1\n",
        "wavelengths167=[]\n",
        "emissivePower167=[]\n",
        "emissivePowerFilter167=[]\n",
        "#emissivePower=[]\n",
        "Etop=2*(6.63e-34)*((3e8)*(3e8))\n",
        "#print (Etop)\n",
        "while i<1:\n",
        "  #j=i*math.pow(10,6)\n",
        "  wavelengths167.append(i)\n",
        "  exponentTerm3=(6.63e-34*3.00e8)/((i*1.3805e-23)*temp)\n",
        "  Ebot=math.pow(i,5)*(np.exp(exponentTerm3)-1)\n",
        "  E=Etop/Ebot\n",
        "  #filter=0.8025+(0.1004*i)-(0.005953*(i**2))+(1.5781e-6*(i**3))-(1.86e-9*(i**4))+(7.428e-13*(i**5))\n",
        "  filter=-1.297*(np.exp(-5900*i))+1.3  \n",
        "  if i>0.003:\n",
        "    filter=1\n",
        "  if filter>1:\n",
        "    filter=1\n",
        "    \n",
        "  emissivePower167.append(E)\n",
        "  Efilter=E*filter\n",
        "  #if Efilter<0:\n",
        "    #Efilter=0\n",
        "  emissivePowerFilter167.append(Efilter)\n",
        "  i=i+0.00000005\n"
      ],
      "execution_count": null,
      "outputs": []
    },
    {
      "cell_type": "code",
      "metadata": {
        "colab": {
          "base_uri": "https://localhost:8080/",
          "height": 286
        },
        "id": "3siW0UjlCKII",
        "outputId": "1957f02c-282e-4168-fe03-ff14412a76e2"
      },
      "source": [
        "#plt.plot(wavelengths265,emissivePower265,'.')\n",
        "plt.plot(wavelengths167,emissivePowerFilter167,'*')\n",
        "plt.xlim(0,0.00015)\n",
        "#plt.ylim(0,70000)\n",
        "#plt.ylim(0,6e5)"
      ],
      "execution_count": null,
      "outputs": [
        {
          "output_type": "execute_result",
          "data": {
            "text/plain": [
              "(0.0, 0.00015)"
            ]
          },
          "metadata": {
            "tags": []
          },
          "execution_count": 9
        },
        {
          "output_type": "display_data",
          "data": {
            "image/png": "[encoded data removed]",
            "text/plain": [
              "<Figure size 432x288 with 1 Axes>"
            ]
          },
          "metadata": {
            "tags": [],
            "needs_background": "light"
          }
        }
      ]
    },
    {
      "cell_type": "code",
      "metadata": {
        "colab": {
          "base_uri": "https://localhost:8080/",
          "height": 347
        },
        "id": "HaRk8V0ZCNwG",
        "outputId": "9f1adc12-256c-4dce-90fc-751babe94e0b"
      },
      "source": [
        "xLowerBound=0.0000001\n",
        "xUpperBound=0.00015\n",
        "yMax=200000\n",
        "count=0.0\n",
        "countFilter=0.0\n",
        "x=0.0\n",
        "Etop=2*(6.63e-34)*((3e8)*(3e8))\n",
        "xCoordIn=[]\n",
        "yCoordIn=[]\n",
        "xCoordFilter=[]\n",
        "yCoordFilter=[]\n",
        "xCoordOut=[]\n",
        "yCoordOut=[]\n",
        "\n",
        "while x<10000000:\n",
        "  xCoord=random.uniform(xLowerBound, xUpperBound)\n",
        "  yCoord=random.uniform(0,yMax)\n",
        "  exponentTerm3=(6.63*math.pow(10,-34)*3.00*math.pow(10,8))/(xCoord*1.3805*math.pow(10,-23)*temp)\n",
        "  Ebot=(xCoord**5)*(np.exp(exponentTerm3)-1)\n",
        "  #filter=0.8025+(0.1004*xCoord)-(0.005953*(xCoord**2))+(1.5781e-6*(xCoord**3))-(1.86e-9*(xCoord**4))+(7.428e-13*(xCoord**5))\n",
        "  filter=-1.297*(np.exp(-5900*xCoord))+1.3  \n",
        "\n",
        "  if xCoord>0.003:\n",
        "    filter=1\n",
        "  if filter>1:\n",
        "    filter=1\n",
        "  functionValue=Etop/Ebot\n",
        "  functionFilter=functionValue*filter\n",
        "  if functionFilter<0:\n",
        "    functionFilter=0\n",
        "  #print(xCoord, yCoord, functionValue, functionFilter)\n",
        "\n",
        "  x=x+1\n",
        "  if yCoord<=functionFilter:\n",
        "    countFilter=countFilter+1\n",
        "    count=count+1\n",
        "    #print(xCoord, yCoord, functionValue)\n",
        "\n",
        "    #print (count)\n",
        "    #print (x)\n",
        "    xCoordFilter.append(xCoord)\n",
        "    yCoordFilter.append(yCoord)\n",
        "  elif yCoord<=functionValue:\n",
        "    count=count+1\n",
        "    xCoordIn.append(xCoord)\n",
        "    yCoordIn.append(yCoord)\n",
        "  else:\n",
        "    xCoordOut.append(xCoord)\n",
        "    yCoordOut.append(yCoord)\n",
        "  \n",
        "ratioFilter=countFilter/x\n",
        "ratio=count/x\n",
        "resultFilter=(xUpperBound-xLowerBound)*(yMax)*ratioFilter\n",
        "print (resultFilter)\n",
        "result=(xUpperBound-xLowerBound)*(yMax)*ratio\n",
        "print(result)\n",
        "\n",
        "\n",
        "\n",
        "plt.plot(xCoordIn,yCoordIn,'.',color='orange')\n",
        "plt.plot(xCoordFilter,yCoordFilter,'.', color='red')\n",
        "plt.plot(xCoordOut,yCoordOut,'.', color='blue')\n",
        "#plt.ylim(0, 1.7e-29)\n",
        "plt.xlabel('Meters')\n",
        "plt.ylabel('Spectral Radiance (W/m^3)')\n",
        "plt.xlim(0,0.00013)\n",
        "#title=' K Integrated from 125GHz to 165GHz'"
      ],
      "execution_count": null,
      "outputs": [
        {
          "output_type": "stream",
          "text": [
            "/usr/local/lib/python3.7/dist-packages/ipykernel_launcher.py:19: RuntimeWarning: overflow encountered in exp\n"
          ],
          "name": "stderr"
        },
        {
          "output_type": "stream",
          "text": [
            "2.9200999679999997\n",
            "9.136093207999998\n"
          ],
          "name": "stdout"
        },
        {
          "output_type": "execute_result",
          "data": {
            "text/plain": [
              "(0.0, 0.00013)"
            ]
          },
          "metadata": {
            "tags": []
          },
          "execution_count": 8
        },
        {
          "output_type": "display_data",
          "data": {
            "image/png": "[encoded data removed]",
            "text/plain": [
              "<Figure size 432x288 with 1 Axes>"
            ]
          },
          "metadata": {
            "tags": [],
            "needs_background": "light"
          }
        }
      ]
    },
    {
      "cell_type": "code",
      "metadata": {
        "id": "8pn01MhgC6Bw"
      },
      "source": [
        "temp=50\n",
        "i=0.000001\n",
        "#i=-1\n",
        "wavelengths=[]\n",
        "emissivePower=[]\n",
        "emissivePowerFilter=[]\n",
        "#emissivePower=[]\n",
        "Etop=2*(6.63e-34)*((3e8)*(3e8))\n",
        "#print (Etop)\n",
        "while i<1:\n",
        "  #j=i*math.pow(10,6)\n",
        "  wavelengths.append(i)\n",
        "  exponentTerm3=(6.63e-34*3.00e8)/((i*1.3805e-23)*temp)\n",
        "  Ebot=math.pow(i,5)*(np.exp(exponentTerm3)-1)\n",
        "  E=Etop/Ebot\n",
        "  #filter=0.8025+(0.1004*i)-(0.005953*(i**2))+(1.5781e-6*(i**3))-(1.86e-9*(i**4))+(7.428e-13*(i**5))\n",
        "  filter=0.04871+(1.335e4*i)-(8.05e7*(i**2))+(2.138e11*(i**3))-(2.493e14*(i**4))+(1.036e17*(i**5))\n",
        "  if i>0.001:\n",
        "    filter=1\n",
        "  emissivePower.append(E)\n",
        "  Efilter=E*filter\n",
        "  emissivePowerFilter.append(Efilter)\n",
        "  i=i+0.00000005"
      ],
      "execution_count": null,
      "outputs": []
    },
    {
      "cell_type": "code",
      "metadata": {
        "colab": {
          "base_uri": "https://localhost:8080/",
          "height": 282
        },
        "id": "BaoNKA1IC9eN",
        "outputId": "0b72e52a-1c99-4ead-e4ca-5ddc3fa640c0"
      },
      "source": [
        "plt.plot(wavelengths,emissivePower,'.')\n",
        "plt.plot(wavelengths,emissivePowerFilter,'*')\n",
        "plt.xlim(0,0.00025)\n",
        "#plt.xlim(0.00005,1)\n",
        "#plt.ylim(0,0.2e6)"
      ],
      "execution_count": null,
      "outputs": [
        {
          "output_type": "execute_result",
          "data": {
            "text/plain": [
              "(0.0, 0.00025)"
            ]
          },
          "metadata": {
            "tags": []
          },
          "execution_count": 4
        },
        {
          "output_type": "display_data",
          "data": {
            "image/png": "[encoded data removed]",
            "text/plain": [
              "<Figure size 432x288 with 1 Axes>"
            ]
          },
          "metadata": {
            "tags": [],
            "needs_background": "light"
          }
        }
      ]
    },
    {
      "cell_type": "code",
      "metadata": {
        "colab": {
          "base_uri": "https://localhost:8080/"
        },
        "id": "10-sGLqTDBnd",
        "outputId": "70933976-e83f-4475-9e6c-be0a2e398c02"
      },
      "source": [
        "xLowerBound=0.0000001\n",
        "xUpperBound=0.00025\n",
        "yMax=1300\n",
        "count=0.0\n",
        "countFilter=0.0\n",
        "x=0.0\n",
        "Etop=2*(6.63e-34)*((3e8)*(3e8))\n",
        "xCoordIn=[]\n",
        "yCoordIn=[]\n",
        "xCoordFilter=[]\n",
        "yCoordFilter=[]\n",
        "xCoordOut=[]\n",
        "yCoordOut=[]\n",
        "\n",
        "while x<10000000:\n",
        "  xCoord=random.uniform(xLowerBound, xUpperBound)\n",
        "  yCoord=random.uniform(0,yMax)\n",
        "  exponentTerm3=(6.63*math.pow(10,-34)*3.00*math.pow(10,8))/(xCoord*1.3805*math.pow(10,-23)*temp)\n",
        "  Ebot=(xCoord**5)*(np.exp(exponentTerm3)-1)\n",
        "  #filter=0.8025+(0.1004*xCoord)-(0.005953*(xCoord**2))+(1.5781e-6*(xCoord**3))-(1.86e-9*(xCoord**4))+(7.428e-13*(xCoord**5))\n",
        "  filter=0.04871+(1.335e4*xCoord)-(8.05e7*(xCoord**2))+(2.138e11*(xCoord**3))-(2.493e14*(xCoord**4))+(1.036e17*(xCoord**5))\n",
        "\n",
        "  if xCoord>0.001:\n",
        "    filter=1\n",
        "  functionValue=Etop/Ebot\n",
        "  functionFilter=functionValue*filter\n",
        "  x=x+1\n",
        "  if yCoord<=functionFilter:\n",
        "    countFilter=countFilter+1\n",
        "    count=count+1\n",
        "    #print(xCoord, yCoord, functionValue)\n",
        "\n",
        "    #print (count)\n",
        "    #print (x)\n",
        "    xCoordFilter.append(xCoord)\n",
        "    yCoordFilter.append(yCoord)\n",
        "  elif yCoord<=functionValue:\n",
        "    count=count+1\n",
        "    xCoordIn.append(xCoord)\n",
        "    yCoordIn.append(yCoord)\n",
        "  else:\n",
        "    xCoordOut.append(xCoord)\n",
        "    yCoordOut.append(yCoord)\n",
        "  \n",
        "ratioFilter=countFilter/x\n",
        "ratio=count/x\n",
        "resultFilter=(xUpperBound-xLowerBound)*(yMax)*ratioFilter\n",
        "print (resultFilter)\n",
        "result=(xUpperBound-xLowerBound)*(yMax)*ratio\n",
        "print(result)\n",
        "\n",
        "\n"
      ],
      "execution_count": null,
      "outputs": [
        {
          "output_type": "stream",
          "text": [
            "/usr/local/lib/python3.7/dist-packages/ipykernel_launcher.py:19: RuntimeWarning: overflow encountered in exp\n"
          ],
          "name": "stderr"
        },
        {
          "output_type": "stream",
          "text": [
            "0.072848101599\n",
            "0.10686679867499999\n"
          ],
          "name": "stdout"
        }
      ]
    },
    {
      "cell_type": "code",
      "metadata": {
        "colab": {
          "base_uri": "https://localhost:8080/",
          "height": 296
        },
        "id": "7KERAATVDGPf",
        "outputId": "75ba3d2d-7ac7-444d-d2a8-8e775d3d552c"
      },
      "source": [
        "plt.plot(xCoordIn,yCoordIn,'.',color='orange')\n",
        "plt.plot(xCoordFilter,yCoordFilter,'.', color='red')\n",
        "plt.plot(xCoordOut,yCoordOut,'.', color='blue')\n",
        "#plt.ylim(0, 1.7e-29)\n",
        "plt.xlabel('Meters')\n",
        "plt.ylabel('Spectral Radiance (W/m^3)')\n",
        "#title=' K Integrated from 125GHz to 165GHz'\n",
        "#title=temp ,\" K Integrated from 125GHz to 165GHz\"\n",
        "#plt.title(title)\n",
        "#print(result, \"W/m^2\")"
      ],
      "execution_count": null,
      "outputs": [
        {
          "output_type": "execute_result",
          "data": {
            "text/plain": [
              "Text(0, 0.5, 'Spectral Radiance (W/m^3)')"
            ]
          },
          "metadata": {
            "tags": []
          },
          "execution_count": 6
        },
        {
          "output_type": "display_data",
          "data": {
            "image/png": "[encoded data removed]",
            "text/plain": [
              "<Figure size 432x288 with 1 Axes>"
            ]
          },
          "metadata": {
            "tags": [],
            "needs_background": "light"
          }
        }
      ]
    }
  ]
}