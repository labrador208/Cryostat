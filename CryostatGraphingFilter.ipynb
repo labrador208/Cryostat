{
  "nbformat": 4,
  "nbformat_minor": 0,
  "metadata": {
    "colab": {
      "name": "CryostatGraphingFilter.ipynb",
      "provenance": [],
      "authorship_tag": "ABX9TyNZF/gj6ORMTksYykYry37+",
      "include_colab_link": true
    },
    "kernelspec": {
      "name": "python3",
      "display_name": "Python 3"
    },
    "language_info": {
      "name": "python"
    }
  },
  "cells": [
    {
      "cell_type": "markdown",
      "metadata": {
        "id": "view-in-github",
        "colab_type": "text"
      },
      "source": [
        "<a href=\"https://colab.research.google.com/github/labrador208/Cryostat/blob/main/CryostatGraphingFilter.ipynb\" target=\"_parent\"><img src=\"https://colab.research.google.com/assets/colab-badge.svg\" alt=\"Open In Colab\"/></a>"
      ]
    },
    {
      "cell_type": "code",
      "metadata": {
        "id": "CGj6sPtqJ87N"
      },
      "source": [
        "import numpy as np\n",
        "import matplotlib.pyplot as plt\n",
        "import math as math\n",
        "import random\n",
        "random.seed(5)"
      ],
      "execution_count": null,
      "outputs": []
    },
    {
      "cell_type": "code",
      "metadata": {
        "id": "4c5qtQYRKH2C"
      },
      "source": [
        "temp=50"
      ],
      "execution_count": null,
      "outputs": []
    },
    {
      "cell_type": "markdown",
      "metadata": {
        "id": "tJ9PrGkZJ__e"
      },
      "source": [
        "Condensing/streamlining all the code from Cryostat2 so my computer stops crashing it"
      ]
    },
    {
      "cell_type": "markdown",
      "metadata": {
        "id": "XJ2_stX6Ozi-"
      },
      "source": [
        "Adding transmittance filter. Works as multiplier on radiance?\n",
        "\n",
        "Just the aperture\n",
        "\n",
        "T=0.8025+0.1004i-0.0005953*i^2+(1.578*1e-6)i^3-(1.86*10^-9)*i^4+(7.428*10^-13)i^5"
      ]
    },
    {
      "cell_type": "code",
      "metadata": {
        "id": "Glh936QdKJFL"
      },
      "source": [
        "i=0.000001\n",
        "#i=-1\n",
        "wavelengths=[]\n",
        "emissivePower=[]\n",
        "emissivePowerFilter=[]\n",
        "#emissivePower=[]\n",
        "Etop=2*(6.63e-34)*((3e8)*(3e8))\n",
        "#print (Etop)\n",
        "while i<1:\n",
        "  #j=i*math.pow(10,6)\n",
        "  wavelengths.append(i)\n",
        "  exponentTerm3=(6.63e-34*3.00e8)/((i*1.3805e-23)*temp)\n",
        "  Ebot=math.pow(i,5)*(np.exp(exponentTerm3)-1)\n",
        "  E=Etop/Ebot\n",
        "  #filter=0.8025+(0.1004*i)-(0.005953*(i**2))+(1.5781e-6*(i**3))-(1.86e-9*(i**4))+(7.428e-13*(i**5))\n",
        "  filter=0.04871+(1.335e4*i)-(8.05e7*(i**2))+(2.138e11*(i**3))-(2.493e14*(i**4))+(1.036e17*(i**5))\n",
        "  if i>0.001:\n",
        "    filter=1\n",
        "  emissivePower.append(E)\n",
        "  Efilter=E*filter\n",
        "  emissivePowerFilter.append(Efilter)\n",
        "  i=i+0.00000005"
      ],
      "execution_count": null,
      "outputs": []
    },
    {
      "cell_type": "code",
      "metadata": {
        "colab": {
          "base_uri": "https://localhost:8080/",
          "height": 282
        },
        "id": "WHz8d52NV2hE",
        "outputId": "81f9b0fb-b807-46ed-a70e-bee7ec77d682"
      },
      "source": [
        "plt.plot(wavelengths,emissivePower,'.')\n",
        "plt.plot(wavelengths,emissivePowerFilter,'*')\n",
        "plt.xlim(0,0.00035)\n",
        "#plt.xlim(0.00005,1)\n",
        "#plt.ylim(0,0.2e6)"
      ],
      "execution_count": null,
      "outputs": [
        {
          "output_type": "execute_result",
          "data": {
            "text/plain": [
              "(0.0, 0.00035)"
            ]
          },
          "metadata": {
            "tags": []
          },
          "execution_count": 4
        },
        {
          "output_type": "display_data",
          "data": {
            "image/png": "[encoded data removed]",
            "text/plain": [
              "<Figure size 432x288 with 1 Axes>"
            ]
          },
          "metadata": {
            "tags": [],
            "needs_background": "light"
          }
        }
      ]
    },
    {
      "cell_type": "code",
      "metadata": {
        "colab": {
          "base_uri": "https://localhost:8080/"
        },
        "id": "vhXv-qj9fd6N",
        "outputId": "20924538-60f6-41f3-82f3-aace1aea747b"
      },
      "source": [
        "xLowerBound=0.0000001\n",
        "xUpperBound=0.00005\n",
        "yMax=1e7\n",
        "count=0.0\n",
        "countFilter=0.0\n",
        "x=0.0\n",
        "Etop=2*(6.63e-34)*((3e8)*(3e8))\n",
        "xCoordIn=[]\n",
        "yCoordIn=[]\n",
        "xCoordFilter=[]\n",
        "yCoordFilter=[]\n",
        "xCoordOut=[]\n",
        "yCoordOut=[]\n",
        "\n",
        "while x<10000000:\n",
        "  xCoord=random.uniform(xLowerBound, xUpperBound)\n",
        "  yCoord=random.uniform(0,yMax)\n",
        "  exponentTerm3=(6.63*math.pow(10,-34)*3.00*math.pow(10,8))/(xCoord*1.3805*math.pow(10,-23)*temp)\n",
        "  Ebot=(xCoord**5)*(np.exp(exponentTerm3)-1)\n",
        "  #filter=0.8025+(0.1004*xCoord)-(0.005953*(xCoord**2))+(1.5781e-6*(xCoord**3))-(1.86e-9*(xCoord**4))+(7.428e-13*(xCoord**5))\n",
        "  filter=0.04871+(1.335e4*xCoord)-(8.05e7*(xCoord**2))+(2.138e11*(xCoord**3))-(2.493e14*(xCoord**4))+(1.036e17*(xCoord**5))\n",
        "\n",
        "  if xCoord>0.001:\n",
        "    filter=1\n",
        "  functionValue=Etop/Ebot\n",
        "  functionFilter=functionValue*filter\n",
        "  x=x+1\n",
        "  if yCoord<=functionFilter:\n",
        "    countFilter=countFilter+1\n",
        "    count=count+1\n",
        "    #print(xCoord, yCoord, functionValue)\n",
        "\n",
        "    #print (count)\n",
        "    #print (x)\n",
        "    xCoordFilter.append(xCoord)\n",
        "    yCoordFilter.append(yCoord)\n",
        "  elif yCoord<=functionValue:\n",
        "    count=count+1\n",
        "    xCoordIn.append(xCoord)\n",
        "    yCoordIn.append(yCoord)\n",
        "  else:\n",
        "    xCoordOut.append(xCoord)\n",
        "    yCoordOut.append(yCoord)\n",
        "  \n",
        "ratioFilter=countFilter/x\n",
        "ratio=count/x\n",
        "resultFilter=(xUpperBound-xLowerBound)*(yMax)*ratioFilter\n",
        "print (resultFilter)\n",
        "result=(xUpperBound-xLowerBound)*(yMax)*ratio\n",
        "print(result)\n",
        "\n",
        "\n"
      ],
      "execution_count": null,
      "outputs": [
        {
          "output_type": "stream",
          "text": [
            "33.257252199999996\n",
            "141.19214979999998\n"
          ],
          "name": "stdout"
        }
      ]
    },
    {
      "cell_type": "code",
      "metadata": {
        "colab": {
          "base_uri": "https://localhost:8080/",
          "height": 307
        },
        "id": "idQeXt2FlBCU",
        "outputId": "ffd6d11e-29fd-43e3-d952-7a074b8feda5"
      },
      "source": [
        "plt.plot(xCoordIn,yCoordIn,'.',color='orange')\n",
        "plt.plot(xCoordFilter,yCoordFilter,'.', color='red')\n",
        "plt.plot(xCoordOut,yCoordOut,'.', color='blue')\n",
        "#plt.ylim(0, 1.7e-29)\n",
        "plt.xlabel('Meters')\n",
        "plt.ylabel('Spectral Radiance (W/m^3)')\n",
        "#title=' K Integrated from 125GHz to 165GHz'\n",
        "#title=temp ,\" K Integrated from 125GHz to 165GHz\"\n",
        "#plt.title(title)\n",
        "#print(result, \"W/m^2\")"
      ],
      "execution_count": null,
      "outputs": [
        {
          "output_type": "execute_result",
          "data": {
            "text/plain": [
              "Text(0, 0.5, 'Spectral Radiance (W/m^3)')"
            ]
          },
          "metadata": {
            "tags": []
          },
          "execution_count": 8
        },
        {
          "output_type": "display_data",
          "data": {
            "image/png": "[encoded data removed]",
            "text/plain": [
              "<Figure size 432x288 with 1 Axes>"
            ]
          },
          "metadata": {
            "tags": [],
            "needs_background": "light"
          }
        }
      ]
    }
  ]
}