{
  "nbformat": 4,
  "nbformat_minor": 0,
  "metadata": {
    "colab": {
      "name": "Cryostat2.ipynb",
      "provenance": [],
      "authorship_tag": "ABX9TyNGlrYqh+Q1aoRRYs4BKU35",
      "include_colab_link": true
    },
    "kernelspec": {
      "name": "python3",
      "display_name": "Python 3"
    },
    "language_info": {
      "name": "python"
    }
  },
  "cells": [
    {
      "cell_type": "markdown",
      "metadata": {
        "id": "view-in-github",
        "colab_type": "text"
      },
      "source": [
        "<a href=\"https://colab.research.google.com/github/labrador208/Cryostat/blob/main/Cryostat2.ipynb\" target=\"_parent\"><img src=\"https://colab.research.google.com/assets/colab-badge.svg\" alt=\"Open In Colab\"/></a>"
      ]
    },
    {
      "cell_type": "markdown",
      "metadata": {
        "id": "u3Vt2ibSQiYV"
      },
      "source": [
        "All temp variables can be changed as needed"
      ]
    },
    {
      "cell_type": "code",
      "metadata": {
        "id": "x0VA2tD6NGWC"
      },
      "source": [
        "import numpy as np\n",
        "import matplotlib.pyplot as plt\n",
        "import math as math\n",
        "import random\n",
        "random.seed(5)"
      ],
      "execution_count": 2,
      "outputs": []
    },
    {
      "cell_type": "code",
      "metadata": {
        "colab": {
          "base_uri": "https://localhost:8080/"
        },
        "id": "-1XlLSp7NKn_",
        "outputId": "3ba64792-4ce8-4913-e393-825a77e854d7"
      },
      "source": [
        "temp=300\n",
        "\n",
        "i=0.000001\n",
        "#Wavelengths300 generates a set of wavelengths from 1 micrometer to 2 meters in increments of 0.05 micrometers.\n",
        "wavelengths300=[]\n",
        "\n",
        "#Using Planck's law, emissive power in W/m^3 is generated for each wavelength in the wavelength array\n",
        "emissivePower300=[]\n",
        "Etop=2*(6.63e-34)*((3e8)*(3e8))\n",
        "while i<2:\n",
        "  wavelengths300.append(i)\n",
        "  exponentTerm3=(6.63e-34*3.00e8)/((i*1.3805e-23)*temp)\n",
        "  Ebot=math.pow(i,5)*(math.exp(exponentTerm3)-1)\n",
        "  E=Etop/Ebot\n",
        "  emissivePower300.append(E)\n",
        "  i=i+0.00000005\n"
      ],
      "execution_count": null,
      "outputs": [
        {
          "output_type": "stream",
          "text": [
            "1.1934e-16\n"
          ],
          "name": "stdout"
        }
      ]
    },
    {
      "cell_type": "code",
      "metadata": {
        "colab": {
          "base_uri": "https://localhost:8080/"
        },
        "id": "_v3tP2q3KftM",
        "outputId": "8def4a28-8935-4628-d190-9fc47c2cb493"
      },
      "source": [
        "#Determines the peak emissive power over the full spectrum of wavelengths\n",
        "temp=300\n",
        "\n",
        "\n",
        "i=2898/(300*10**6)\n",
        "\n",
        "\n",
        "exponentTerm3=(6.63e-34*3.00e8)/((i*1.3805e-23)*temp)\n",
        "Ebot=math.pow(i,5)*(math.exp(exponentTerm3)-1)\n",
        "print(Ebot)\n",
        "print(\"Peak emissive power:\", 1.1934e-16/Ebot)\n"
      ],
      "execution_count": 6,
      "outputs": [
        {
          "output_type": "stream",
          "text": [
            "1.2050973390653184e-23\n",
            "Peak emissive power: 9902934.487645697\n"
          ],
          "name": "stdout"
        }
      ]
    },
    {
      "cell_type": "code",
      "metadata": {
        "colab": {
          "base_uri": "https://localhost:8080/"
        },
        "id": "NZ_XBbbqXpBV",
        "outputId": "80569629-f684-4cb3-b588-8e8d8fa274b2"
      },
      "source": [
        "i=0.000001\n",
        "#i=-1\n",
        "wavelengths180=[]\n",
        "emissivePower180=[]\n",
        "#emissivePower=[]\n",
        "temp=180\n",
        "Etop=2*(6.63e-34)*((3e8)*(3e8))\n",
        "print (Etop)\n",
        "while i<2:\n",
        "  wavelengths180.append(i)\n",
        "  exponentTerm3=(6.63*math.pow(10,-34)*3.00*math.pow(10,8))/(i*1.3805*math.pow(10,-23)*temp)\n",
        "  Ebot=math.pow(i,5)*(math.exp(exponentTerm3)-1)\n",
        "  E=Etop/Ebot\n",
        "  emissivePower180.append(E)\n",
        "  i=i+0.000001"
      ],
      "execution_count": null,
      "outputs": [
        {
          "output_type": "stream",
          "text": [
            "4.9988980079999996e-24\n"
          ],
          "name": "stdout"
        }
      ]
    },
    {
      "cell_type": "code",
      "metadata": {
        "colab": {
          "base_uri": "https://localhost:8080/"
        },
        "id": "Z7gd6rerfaxI",
        "outputId": "94b00854-c541-4d82-a7e1-5aa2d7139244"
      },
      "source": [
        "i=0.000001\n",
        "#i=-1\n",
        "wavelengths45=[]\n",
        "emissivePower45=[]\n",
        "#emissivePower=[]\n",
        "temp=45\n",
        "Etop=2*(6.63e-34)*((3e8)*(3e8))\n",
        "print (Etop)\n",
        "while i<2:\n",
        "  wavelengths45.append(i)\n",
        "  exponentTerm3=(6.63*math.pow(10,-34)*3.00*math.pow(10,8))/(i*1.3805*math.pow(10,-23)*temp)\n",
        "  Ebot=(i**5)*(math.exp(exponentTerm3)-1)\n",
        "  #Ebot=5\n",
        "  E=Etop/Ebot\n",
        "  emissivePower45.append(E)\n",
        "  i=i+0.000001\n",
        "#print(emissivePower1m)"
      ],
      "execution_count": null,
      "outputs": [
        {
          "output_type": "stream",
          "text": [
            "4.9988980079999996e-24\n"
          ],
          "name": "stdout"
        }
      ]
    },
    {
      "cell_type": "code",
      "metadata": {
        "colab": {
          "base_uri": "https://localhost:8080/"
        },
        "id": "x2EeHSjijqn7",
        "outputId": "1d4471ba-4c31-415c-f4db-efb41ee3a406"
      },
      "source": [
        "i=0.000001\n",
        "#i=-1\n",
        "wavelengths4=[]\n",
        "emissivePower4=[]\n",
        "#emissivePower=[]\n",
        "temp=4\n",
        "Etop=2*(6.63e-34)*((3e8)*(3e8))\n",
        "print (Etop)\n",
        "while i<2:\n",
        "  wavelengths4.append(i)\n",
        "  exponentTerm3=(6.63*math.pow(10,-34)*3.00*math.pow(10,8))/(i*1.3805*math.pow(10,-23)*temp)\n",
        "  Ebot=(i**5)*(np.exp(exponentTerm3)-1)\n",
        "  #Ebot=5\n",
        "  E=Etop/Ebot\n",
        "  emissivePower4.append(E)\n",
        "  i=i+0.000001\n",
        "#print(emissivePower1m)"
      ],
      "execution_count": null,
      "outputs": [
        {
          "output_type": "stream",
          "text": [
            "4.9988980079999996e-24\n"
          ],
          "name": "stdout"
        },
        {
          "output_type": "stream",
          "text": [
            "/usr/local/lib/python3.7/dist-packages/ipykernel_launcher.py:12: RuntimeWarning: overflow encountered in exp\n",
            "  if sys.path[0] == '':\n"
          ],
          "name": "stderr"
        }
      ]
    },
    {
      "cell_type": "code",
      "metadata": {
        "id": "1SF8pDzRNNOS",
        "colab": {
          "base_uri": "https://localhost:8080/"
        },
        "outputId": "d31a50bd-ffca-446e-ace6-f34cab675d85"
      },
      "source": [
        "i=0.000001\n",
        "#i=-1\n",
        "wavelengths15=[]\n",
        "emissivePower15=[]\n",
        "#emissivePower=[]\n",
        "temp=1.5\n",
        "Etop=2*(6.63e-34)*((3e8)*(3e8))\n",
        "print (Etop)\n",
        "while i<2:\n",
        "  wavelengths15.append(i)\n",
        "  exponentTerm3=(6.63*math.pow(10,-34)*3.00*math.pow(10,8))/(i*1.3805*math.pow(10,-23)*temp)\n",
        "  Ebot=(i**5)*(np.exp(exponentTerm3)-1)\n",
        "  #Ebot=5\n",
        "  E=Etop/Ebot\n",
        "  emissivePower15.append(E)\n",
        "  i=i+0.000001\n",
        "#print(emissivePower1m)"
      ],
      "execution_count": null,
      "outputs": [
        {
          "output_type": "stream",
          "text": [
            "1.1934e-16\n"
          ],
          "name": "stdout"
        },
        {
          "output_type": "stream",
          "text": [
            "/usr/local/lib/python3.7/dist-packages/ipykernel_launcher.py:12: RuntimeWarning: overflow encountered in exp\n",
            "  if sys.path[0] == '':\n"
          ],
          "name": "stderr"
        }
      ]
    },
    {
      "cell_type": "code",
      "metadata": {
        "colab": {
          "base_uri": "https://localhost:8080/"
        },
        "id": "A18AgLRqkoxH",
        "outputId": "d286dcb3-2eb1-4bcb-bf7f-bef6b2258125"
      },
      "source": [
        "i=0.000001\n",
        "#i=-1\n",
        "wavelengths1m=[]\n",
        "emissivePower1m=[]\n",
        "#emissivePower=[]\n",
        "temp=0.1\n",
        "Etop=2*(6.63e-34)*((3e8)*(3e8))\n",
        "print (Etop)\n",
        "while i<2:\n",
        "  #j=i*math.pow(10,6)\n",
        "  wavelengths1m.append(i)\n",
        "  exponentTerm3=(6.63*math.pow(10,-34)*3.00*math.pow(10,8))/(i*1.3805*math.pow(10,-23)*temp)\n",
        "  Ebot=(i**5)*(np.exp(exponentTerm3)-1)\n",
        "  #Ebot=5\n",
        "  E=Etop/Ebot\n",
        "  emissivePower1m.append(E)\n",
        "  i=i+0.000001\n",
        "#print(emissivePower1m)"
      ],
      "execution_count": null,
      "outputs": [
        {
          "output_type": "stream",
          "text": [
            "1.1934e-16\n"
          ],
          "name": "stdout"
        },
        {
          "output_type": "stream",
          "text": [
            "/usr/local/lib/python3.7/dist-packages/ipykernel_launcher.py:13: RuntimeWarning: overflow encountered in exp\n",
            "  del sys.path[0]\n"
          ],
          "name": "stderr"
        }
      ]
    },
    {
      "cell_type": "markdown",
      "metadata": {
        "id": "WBQXm_Puq6vf"
      },
      "source": [
        "Limits of 0.1 K Graph using Wavelength"
      ]
    },
    {
      "cell_type": "code",
      "metadata": {
        "id": "s4kBMO1Mq6RX",
        "colab": {
          "base_uri": "https://localhost:8080/"
        },
        "outputId": "8e58914f-35b7-4ed7-e67d-ace903a89d2e"
      },
      "source": [
        "i=0.00239834\n",
        "temp=0.1\n",
        "Etop=2*(6.63e-34)*((3e8)*(3e8))\n",
        "exponentTerm3=(6.63*math.pow(10,-34)*3.00*math.pow(10,8))/(i*1.3805*math.pow(10,-23)*temp)\n",
        "Ebot=(i**5)*(np.exp(exponentTerm3)-1)\n",
        "E=Etop/Ebot\n",
        "print(E)"
      ],
      "execution_count": null,
      "outputs": [
        {
          "output_type": "stream",
          "text": [
            "1.2228163135109414e-29\n"
          ],
          "name": "stdout"
        }
      ]
    },
    {
      "cell_type": "code",
      "metadata": {
        "colab": {
          "base_uri": "https://localhost:8080/"
        },
        "id": "qTpnrHEFSg_E",
        "outputId": "225c4208-18a7-42e4-b4a8-148ec35f5857"
      },
      "source": [
        "i=0.00181692\n",
        "temp=0.1\n",
        "Etop=2*(6.63e-34)*((3e8)*(3e8))\n",
        "exponentTerm3=(6.63*math.pow(10,-34)*3.00*math.pow(10,8))/(i*1.3805*math.pow(10,-23)*temp)\n",
        "Ebot=(i**5)*(np.exp(exponentTerm3)-1)\n",
        "E=Etop/Ebot\n",
        "print(E)"
      ],
      "execution_count": null,
      "outputs": [
        {
          "output_type": "stream",
          "text": [
            "2.1948093409932833e-37\n"
          ],
          "name": "stdout"
        }
      ]
    },
    {
      "cell_type": "code",
      "metadata": {
        "colab": {
          "base_uri": "https://localhost:8080/",
          "height": 307
        },
        "id": "xjFTVhJjNQWW",
        "outputId": "6c879ba2-ae50-400d-a679-ab06bb2ce114"
      },
      "source": [
        "#The below set of plots will plot each set of wavelengths and corresponding spectral radiances. Uncomment the lines to compare plots.\n",
        "\n",
        "#plt.plot(wavelengths300, (emissivePower300),\".\")\n",
        "#plt.plot(wavelengths180,(emissivePower180), \"-\")\n",
        "#plt.plot(wavelengths45,emissivePower45,\"v\")\n",
        "#plt.plot(wavelengths4,emissivePower4,\"o\")\n",
        "plt.plot(wavelengths15,emissivePower15)\n",
        "#plt.plot(wavelengths1m,emissivePower1m)\n",
        "#plt.plot(wavelengths1m2, emissivePower1m2)\n",
        "\n",
        "#Because the ranges of wavelengths are so large, the graphs do not show the important parts of the curves. Use plt.xlim to see the wavelength range that is relevant\n",
        "\n",
        "#plt.xscale('log')\n",
        "#plt.yscale('log')\n",
        "#plt.xlim(0,0.00002)\n",
        "#plt.xlim(0.000008,0.000012)\n",
        "#plt.xlim(0,20)\n",
        "#plt.xlim(0.000008,0.000011)\n",
        "#plt.xlim(0.0000125,0.00002)\n",
        "#plt.xlim(0,0.0002)\n",
        "#plt.xlim(0,0.04)\n",
        "#plt.ylim(0,math.pow(10,-17))\n",
        "#plt.xlim(0.001816923987879,0.002398339664)\n",
        "#plt.xlim(0,0.0025)\n",
        "#plt.xlim(0.000016,0.0000162)\n",
        "#plt.xlim(1.24*(math.pow(10,11)),1.26*math.pow(10,11))\n",
        "#plt.ylim(0,1.5e-29)\n",
        "plt.xlim(0,0.005)\n",
        "plt.xlabel('Meters')\n",
        "plt.ylabel('Spectral Radiance (W/m^3)')"
      ],
      "execution_count": null,
      "outputs": [
        {
          "output_type": "execute_result",
          "data": {
            "text/plain": [
              "Text(0, 0.5, 'Spectral Radiance (W/m^3)')"
            ]
          },
          "metadata": {
            "tags": []
          },
          "execution_count": 14
        },
        {
          "output_type": "display_data",
          "data": {
            "image/png": "[encoded data removed]",
            "text/plain": [
              "<Figure size 432x288 with 1 Axes>"
            ]
          },
          "metadata": {
            "tags": [],
            "needs_background": "light"
          }
        }
      ]
    },
    {
      "cell_type": "code",
      "metadata": {
        "id": "gbqJGek-_SUg"
      },
      "source": [
        ""
      ],
      "execution_count": null,
      "outputs": []
    },
    {
      "cell_type": "markdown",
      "metadata": {
        "id": "m6sX2hhc94Wp"
      },
      "source": [
        "300K: 9.66micrometers\n",
        "\n",
        "180K: 16.1 micrometers\n",
        "\n",
        "45K: 64.4 micrometers\n",
        "\n",
        "4K: 724.5 micrometers\n",
        "\n",
        "1.5K: 1932 micrometers\n",
        "\n",
        "0.1K: 28980 micrometers\n"
      ]
    },
    {
      "cell_type": "code",
      "metadata": {
        "colab": {
          "base_uri": "https://localhost:8080/"
        },
        "id": "vHHBdmHGYxRT",
        "outputId": "4cd33eb7-314b-43c5-8197-3243a027fa6d"
      },
      "source": [
        "#See CryostatIntegration for explanation on how to use this block of code\n",
        "\n",
        "xUpperBound=(3.00*math.pow(10,8))/(1.25*(10**11))\n",
        "xLowerBound=(3.00*math.pow(10,8))/(1.65*(10**11))\n",
        "#xUpperBound=0.002398339664\n",
        "#xLowerBound=0.001816923987879\n",
        "#xUpperBound=5.0\n",
        "#xLowerBound=0.0\n",
        "yMax=3e-29\n",
        "\n",
        "count=0.0\n",
        "x=0.0\n",
        "Etop=2*(6.63e-34)*((3e8)*(3e8))\n",
        "temp=0.1\n",
        "#Btop=2*6.63*math.pow(10,-34)*3*math.pow(10,8)\n",
        "\n",
        "xCoordIn=[]\n",
        "yCoordIn=[]\n",
        "xCoordOut=[]\n",
        "yCoordOut=[]\n",
        "\n",
        "while x<10000000:\n",
        "  xCoord=random.uniform(xLowerBound, xUpperBound)\n",
        "  yCoord=random.uniform(0,yMax)\n",
        "  exponentTerm3=(6.63*math.pow(10,-34)*3.00*math.pow(10,8))/(xCoord*1.3805*math.pow(10,-23)*temp)\n",
        "  Ebot=(xCoord**5)*(np.exp(exponentTerm3)-1)\n",
        "  #exponentTerm=(6.63*math.pow(10,-34)*3*math.pow(10,8))/((1.3805*math.pow(10,-23)*300*xCoord))\n",
        "  #Bbot=((xCoord**3)*(np.exp(exponentTerm)-1)\n",
        "\n",
        "  #functionValue=xCoord**2\n",
        "  functionValue=Etop/Ebot\n",
        "  #functionValue=Btop/Btot\n",
        "  #plt.plot(xCoord, functionValue)\n",
        "  \n",
        "  x=x+1\n",
        "  #print(xCoord, yCoord, functionValue)\n",
        "  if yCoord<=functionValue:\n",
        "    count=count+1\n",
        "    #print(xCoord, yCoord, functionValue)\n",
        "\n",
        "    #print (count)\n",
        "    #print (x)\n",
        "    xCoordIn.append(xCoord)\n",
        "    yCoordIn.append(yCoord)\n",
        "  else:\n",
        "    xCoordOut.append(xCoord)\n",
        "    yCoordOut.append(yCoord)\n",
        "ratio=count/x\n",
        "result=(xUpperBound-xLowerBound)*(yMax)*ratio\n",
        "print (result)"
      ],
      "execution_count": 9,
      "outputs": [
        {
          "output_type": "stream",
          "text": [
            "5.329588363636362e-34\n"
          ],
          "name": "stdout"
        }
      ]
    },
    {
      "cell_type": "code",
      "metadata": {
        "id": "I0JoFkyQQ4W9",
        "colab": {
          "base_uri": "https://localhost:8080/",
          "height": 312
        },
        "outputId": "84fd0d44-d6b4-4e16-efb8-b9ee3012e3c8"
      },
      "source": [
        "plt.plot(xCoordIn,yCoordIn,'.',color='orange')\n",
        "plt.plot(xCoordOut,yCoordOut,'.', color='blue')\n",
        "plt.ylim(0, 1.7e-29)\n",
        "plt.xlabel('Meters')\n",
        "plt.ylabel('Spectral Radiance (W/m^3)')\n",
        "plt.title('0.1 K Integrated from 125GHz to 165GHz')\n",
        "print(result, \"W/m^2\")"
      ],
      "execution_count": 10,
      "outputs": [
        {
          "output_type": "stream",
          "text": [
            "5.329588363636362e-34 W/m^2\n"
          ],
          "name": "stdout"
        },
        {
          "output_type": "display_data",
          "data": {
            "image/png": "[encoded data removed]",
            "text/plain": [
              "<Figure size 432x288 with 1 Axes>"
            ]
          },
          "metadata": {
            "tags": [],
            "needs_background": "light"
          }
        }
      ]
    }
  ]
}