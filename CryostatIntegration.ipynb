{
  "nbformat": 4,
  "nbformat_minor": 0,
  "metadata": {
    "colab": {
      "name": "CryostatIntegration.ipynb",
      "provenance": [],
      "authorship_tag": "ABX9TyP/1mUZhQJA14LzaH3Kkq96",
      "include_colab_link": true
    },
    "kernelspec": {
      "name": "python3",
      "display_name": "Python 3"
    },
    "language_info": {
      "name": "python"
    }
  },
  "cells": [
    {
      "cell_type": "markdown",
      "metadata": {
        "id": "view-in-github",
        "colab_type": "text"
      },
      "source": [
        "<a href=\"https://colab.research.google.com/github/labrador208/Cryostat/blob/main/CryostatIntegration.ipynb\" target=\"_parent\"><img src=\"https://colab.research.google.com/assets/colab-badge.svg\" alt=\"Open In Colab\"/></a>"
      ]
    },
    {
      "cell_type": "code",
      "metadata": {
        "id": "b3R4cRaWmLHo"
      },
      "source": [
        "import numpy as np\n",
        "import matplotlib.pyplot as plt\n",
        "import math as math\n",
        "import random\n",
        "random.seed(5)\n",
        "temp=0.1"
      ],
      "execution_count": null,
      "outputs": []
    },
    {
      "cell_type": "code",
      "metadata": {
        "colab": {
          "base_uri": "https://localhost:8080/"
        },
        "id": "NyHCR-mXmcKQ",
        "outputId": "c6addcf6-17c0-4ff7-a48f-2b0d90438a94"
      },
      "source": [
        "i=0.00181692\n",
        "#temp=0.1\n",
        "Etop=2*(6.63e-34)*((3e8)*(3e8))\n",
        "exponentTerm3=(6.63*math.pow(10,-34)*3.00*math.pow(10,8))/(i*1.3805*math.pow(10,-23)*temp)\n",
        "Ebot=(i**5)*(np.exp(exponentTerm3)-1)\n",
        "E1=Etop/Ebot\n",
        "print(temp)\n",
        "print(E1)"
      ],
      "execution_count": null,
      "outputs": [
        {
          "output_type": "stream",
          "text": [
            "0.1\n",
            "2.1948093409932833e-37\n"
          ],
          "name": "stdout"
        }
      ]
    },
    {
      "cell_type": "code",
      "metadata": {
        "colab": {
          "base_uri": "https://localhost:8080/"
        },
        "id": "gNQFWtU-mQnt",
        "outputId": "c83243c1-7c59-4585-e77d-9aa89ac73569"
      },
      "source": [
        "i=0.00239834\n",
        "#temp=300\n",
        "Etop=2*(6.63e-34)*((3e8)*(3e8))\n",
        "exponentTerm3=(6.63*math.pow(10,-34)*3.00*math.pow(10,8))/(i*1.3805*math.pow(10,-23)*temp)\n",
        "Ebot=(i**5)*(np.exp(exponentTerm3)-1)\n",
        "E2=Etop/Ebot\n",
        "print(temp)\n",
        "print(E2)"
      ],
      "execution_count": null,
      "outputs": [
        {
          "output_type": "stream",
          "text": [
            "0.1\n",
            "1.2228163135109414e-29\n"
          ],
          "name": "stdout"
        }
      ]
    },
    {
      "cell_type": "code",
      "metadata": {
        "colab": {
          "base_uri": "https://localhost:8080/"
        },
        "id": "cWC_OSD4mNz9",
        "outputId": "382e05c4-ead1-4ec6-a670-309055d5fb2f"
      },
      "source": [
        "#xUpperBound=(3.00*math.pow(10,8))/(1.25*(10**11))\n",
        "#xLowerBound=(3.00*math.pow(10,8))/(1.65*(10**11))\n",
        "xUpperBound=0.002398339664\n",
        "xLowerBound=0.001816923987879\n",
        "#xUpperBound=5.0\n",
        "#xLowerBound=0.0\n",
        "if E1>E2:\n",
        "  yMax=E1*1.5\n",
        "else:\n",
        "  yMax=E2*1.5\n",
        "\n",
        "count=0.0\n",
        "x=0.0\n",
        "Etop=2*(6.63e-34)*((3e8)*(3e8))\n",
        "#temp=300\n",
        "#Btop=2*6.63*math.pow(10,-34)*3*math.pow(10,8)\n",
        "\n",
        "xCoordIn=[]\n",
        "yCoordIn=[]\n",
        "xCoordOut=[]\n",
        "yCoordOut=[]\n",
        "\n",
        "while x<10000000:\n",
        "  xCoord=random.uniform(xLowerBound, xUpperBound)\n",
        "  yCoord=random.uniform(0,yMax)\n",
        "  exponentTerm3=(6.63*math.pow(10,-34)*3.00*math.pow(10,8))/(xCoord*1.3805*math.pow(10,-23)*temp)\n",
        "  Ebot=(xCoord**5)*(np.exp(exponentTerm3)-1)\n",
        "  #exponentTerm=(6.63*math.pow(10,-34)*3*math.pow(10,8))/((1.3805*math.pow(10,-23)*300*xCoord))\n",
        "  #Bbot=((xCoord**3)*(np.exp(exponentTerm)-1)\n",
        "\n",
        "  #functionValue=xCoord**2\n",
        "  functionValue=Etop/Ebot\n",
        "  #functionValue=Btop/Btot\n",
        "  #plt.plot(xCoord, functionValue)\n",
        "  \n",
        "  x=x+1\n",
        "  #print(xCoord, yCoord, functionValue)\n",
        "  if yCoord<=functionValue:\n",
        "    count=count+1\n",
        "    #print(xCoord, yCoord, functionValue)\n",
        "\n",
        "    #print (count)\n",
        "    #print (x)\n",
        "    xCoordIn.append(xCoord)\n",
        "    yCoordIn.append(yCoord)\n",
        "  else:\n",
        "    xCoordOut.append(xCoord)\n",
        "    yCoordOut.append(yCoord)\n",
        "ratio=count/x\n",
        "result=(xUpperBound-xLowerBound)*(yMax)*ratio\n",
        "print (result)"
      ],
      "execution_count": null,
      "outputs": [
        {
          "output_type": "stream",
          "text": [
            "5.138439579191248e-34\n"
          ],
          "name": "stdout"
        }
      ]
    },
    {
      "cell_type": "code",
      "metadata": {
        "colab": {
          "base_uri": "https://localhost:8080/",
          "height": 312
        },
        "id": "NuLoC3P4wzaP",
        "outputId": "58c5493e-7fc4-4851-8953-931c82437caf"
      },
      "source": [
        "plt.plot(xCoordIn,yCoordIn,'.',color='orange')\n",
        "plt.plot(xCoordOut,yCoordOut,'.', color='blue')\n",
        "#plt.ylim(0, 1.7e-29)\n",
        "plt.xlabel('Meters')\n",
        "plt.ylabel('Spectral Radiance (W/m^3)')\n",
        "#title=' K Integrated from 125GHz to 165GHz'\n",
        "title=temp ,\" K Integrated from 125GHz to 165GHz\"\n",
        "plt.title(title)\n",
        "print(result, \"W/m^2\")"
      ],
      "execution_count": null,
      "outputs": [
        {
          "output_type": "stream",
          "text": [
            "5.138439579191248e-34 W/m^2\n"
          ],
          "name": "stdout"
        },
        {
          "output_type": "display_data",
          "data": {
            "image/png": "[encoded data removed]",
            "text/plain": [
              "<Figure size 432x288 with 1 Axes>"
            ]
          },
          "metadata": {
            "tags": [],
            "needs_background": "light"
          }
        }
      ]
    }
  ]
}