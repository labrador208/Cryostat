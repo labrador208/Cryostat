{
  "nbformat": 4,
  "nbformat_minor": 0,
  "metadata": {
    "colab": {
      "name": "CryostatIntegration.ipynb",
      "provenance": [],
      "collapsed_sections": [],
      "authorship_tag": "ABX9TyPcbLL9nEtabmWX4W823/K9",
      "include_colab_link": true
    },
    "kernelspec": {
      "name": "python3",
      "display_name": "Python 3"
    },
    "language_info": {
      "name": "python"
    }
  },
  "cells": [
    {
      "cell_type": "markdown",
      "metadata": {
        "id": "view-in-github",
        "colab_type": "text"
      },
      "source": [
        "<a href=\"https://colab.research.google.com/github/labrador208/Cryostat/blob/main/CryostatIntegration.ipynb\" target=\"_parent\"><img src=\"https://colab.research.google.com/assets/colab-badge.svg\" alt=\"Open In Colab\"/></a>"
      ]
    },
    {
      "cell_type": "code",
      "metadata": {
        "id": "b3R4cRaWmLHo"
      },
      "source": [
        "import numpy as np\n",
        "import matplotlib.pyplot as plt\n",
        "import math as math\n",
        "import random\n",
        "random.seed(5)\n",
        "\n",
        "#Change temp as necessary\n",
        "temp=0.1\n",
        "temp=300"
      ],
      "execution_count": null,
      "outputs": []
    },
    {
      "cell_type": "code",
      "metadata": {
        "colab": {
          "base_uri": "https://localhost:8080/"
        },
        "id": "NyHCR-mXmcKQ",
        "outputId": "85591f2f-7113-4ed7-a1ab-5021394131d5"
      },
      "source": [
        "#i=0.00181692\n",
        "\n",
        "#Set i to be the lower bound of integration. Determines spectral radiance at that point\n",
        "i=0.00005\n",
        "#temp=0.1\n",
        "Etop=2*(6.63e-34)*((3e8)*(3e8))\n",
        "exponentTerm3=(6.63*math.pow(10,-34)*3.00*math.pow(10,8))/(i*1.3805*math.pow(10,-23)*temp)\n",
        "Ebot=(i**5)*(np.exp(exponentTerm3)-1)\n",
        "E1=Etop/Ebot\n",
        "print(temp)\n",
        "print(E1)"
      ],
      "execution_count": null,
      "outputs": [
        {
          "output_type": "stream",
          "text": [
            "300\n",
            "236747.70086411395\n"
          ],
          "name": "stdout"
        }
      ]
    },
    {
      "cell_type": "code",
      "metadata": {
        "colab": {
          "base_uri": "https://localhost:8080/"
        },
        "id": "gNQFWtU-mQnt",
        "outputId": "01e69371-ecbe-4da8-c0fc-68ca5e2b6905"
      },
      "source": [
        "#i=0.00239834\n",
        "\n",
        "#Set i to be upper bound of integration\n",
        "i=1\n",
        "#temp=300\n",
        "Etop=2*(6.63e-34)*((3e8)*(3e8))\n",
        "exponentTerm3=(6.63*math.pow(10,-34)*3.00*math.pow(10,8))/(i*1.3805*math.pow(10,-23)*temp)\n",
        "Ebot=(i**5)*(np.exp(exponentTerm3)-1)\n",
        "E2=Etop/Ebot\n",
        "print(temp)\n",
        "print(E2)"
      ],
      "execution_count": null,
      "outputs": [
        {
          "output_type": "stream",
          "text": [
            "300\n",
            "2.4848403304829456e-12\n"
          ],
          "name": "stdout"
        }
      ]
    },
    {
      "cell_type": "markdown",
      "metadata": {
        "id": "GE5yxpC6ViLf"
      },
      "source": [
        "Main integration function. Uses Monte Carlo integration to integrate functions for different ranges. Much of the code is used specifically for integrating Planck's law but can be easily modified for other functions."
      ]
    },
    {
      "cell_type": "code",
      "metadata": {
        "colab": {
          "base_uri": "https://localhost:8080/",
          "height": 232
        },
        "id": "cWC_OSD4mNz9",
        "outputId": "678696dd-9cf4-4615-a14f-ec73e8dd4eb1"
      },
      "source": [
        "#xUpperBound=(3.00*math.pow(10,8))/(1.25*(10**11))\n",
        "#xLowerBound=(3.00*math.pow(10,8))/(1.65*(10**11))\n",
        "#xUpperBound=0.002398339664\n",
        "#xLowerBound=0.001816923987879\n",
        "\n",
        "#Set these values to be the bounds of integration. Determines the range of potential x-coordinates\n",
        "xLowerBound=0.00005\n",
        "xUpperBound=1\n",
        "\n",
        "\n",
        "#Determines the maximum value of y-coordinates. Set manually if necessary\n",
        "if E1>E2:\n",
        "  yMax=E1*1.5\n",
        "else:\n",
        "  yMax=E2*1.5\n",
        "\n",
        "count=0.0\n",
        "x=0.0\n",
        "\n",
        "#Etop, exponentTerm3, and Ebot are variables used to set the function. Delete or modify them as necessary for other functions\n",
        "Etop=2*(6.63e-34)*((3e8)*(3e8))\n",
        "\n",
        "\n",
        "xCoordIn=[]\n",
        "yCoordIn=[]\n",
        "xCoordOut=[]\n",
        "yCoordOut=[]\n",
        "\n",
        "#Set the value as high as necessary. Higher values creates a greater degree of accuracy\n",
        "while x<100000000:\n",
        "  #Generates two random numbers using the bounds determined above. The random numbers will be x and y coordinates\n",
        "  xCoord=random.uniform(xLowerBound, xUpperBound)\n",
        "  yCoord=random.uniform(0,yMax)\n",
        "  \n",
        "  \n",
        "  exponentTerm3=(6.63*math.pow(10,-34)*3.00*math.pow(10,8))/(xCoord*1.3805*math.pow(10,-23)*temp)\n",
        "  Ebot=(xCoord**5)*(np.exp(exponentTerm3)-1)\n",
        "  \n",
        "  functionValue=Etop/Ebot\n",
        "  \n",
        "  \n",
        "  x=x+1\n",
        "  #print(xCoord, yCoord, functionValue)\n",
        "  \n",
        "  #The if statement compares the x and y coordinates generated to the points on the function curve. If they are below the curve they will be \"counted\".\n",
        "  if yCoord<=functionValue:\n",
        "    count=count+1\n",
        "    #print(xCoord, yCoord, functionValue)\n",
        "\n",
        "    #print (count)\n",
        "    #print (x)\n",
        "    xCoordIn.append(xCoord)\n",
        "    yCoordIn.append(yCoord)\n",
        "  else:\n",
        "    xCoordOut.append(xCoord)\n",
        "    yCoordOut.append(yCoord)\n",
        "\n",
        "#Calculates how many \"counts\" have been counted relative to the total number of sets of coordinates generated. Then multiplies this ratio by the total area of integration to output the integrated value.\n",
        "ratio=count/x\n",
        "result=(xUpperBound-xLowerBound)*(yMax)*ratio\n",
        "print (\"Total emissive power (W/m^2)\", result)"
      ],
      "execution_count": 1,
      "outputs": [
        {
          "output_type": "error",
          "ename": "NameError",
          "evalue": "ignored",
          "traceback": [
            "\u001b[0;31m---------------------------------------------------------------------------\u001b[0m",
            "\u001b[0;31mNameError\u001b[0m                                 Traceback (most recent call last)",
            "\u001b[0;32m<ipython-input-1-2c2c5897d11c>\u001b[0m in \u001b[0;36m<module>\u001b[0;34m()\u001b[0m\n\u001b[1;32m     10\u001b[0m \u001b[0;34m\u001b[0m\u001b[0m\n\u001b[1;32m     11\u001b[0m \u001b[0;34m\u001b[0m\u001b[0m\n\u001b[0;32m---> 12\u001b[0;31m \u001b[0;32mif\u001b[0m \u001b[0mE1\u001b[0m\u001b[0;34m>\u001b[0m\u001b[0mE2\u001b[0m\u001b[0;34m:\u001b[0m\u001b[0;34m\u001b[0m\u001b[0;34m\u001b[0m\u001b[0m\n\u001b[0m\u001b[1;32m     13\u001b[0m   \u001b[0myMax\u001b[0m\u001b[0;34m=\u001b[0m\u001b[0mE1\u001b[0m\u001b[0;34m*\u001b[0m\u001b[0;36m1.5\u001b[0m\u001b[0;34m\u001b[0m\u001b[0;34m\u001b[0m\u001b[0m\n\u001b[1;32m     14\u001b[0m \u001b[0;32melse\u001b[0m\u001b[0;34m:\u001b[0m\u001b[0;34m\u001b[0m\u001b[0;34m\u001b[0m\u001b[0m\n",
            "\u001b[0;31mNameError\u001b[0m: name 'E1' is not defined"
          ]
        }
      ]
    },
    {
      "cell_type": "code",
      "metadata": {
        "colab": {
          "base_uri": "https://localhost:8080/",
          "height": 312
        },
        "id": "NuLoC3P4wzaP",
        "outputId": "4c1ea1fc-f7db-457f-f447-137e6086924e"
      },
      "source": [
        "\n",
        "#Use this to ensure the function has been properly entered and integrated\n",
        "plt.plot(xCoordIn,yCoordIn,'.',color='orange')\n",
        "plt.plot(xCoordOut,yCoordOut,'.', color='blue')\n",
        "#plt.ylim(0, 1.7e-29)\n",
        "plt.xlabel('Meters')\n",
        "plt.ylabel('Spectral Radiance (W/m^3)')\n",
        "#title=' K Integrated from 125GHz to 165GHz'\n",
        "#title=temp ,\" K Integrated from 125GHz to 165GHz\"\n",
        "plt.title(title)\n",
        "print(result, \"W/m^2\")"
      ],
      "execution_count": null,
      "outputs": [
        {
          "output_type": "stream",
          "text": [
            "4.758390855929322 W/m^2\n"
          ],
          "name": "stdout"
        },
        {
          "output_type": "display_data",
          "data": {
            "image/png": "[encoded data removed]",
            "text/plain": [
              "<Figure size 432x288 with 1 Axes>"
            ]
          },
          "metadata": {
            "tags": [],
            "needs_background": "light"
          }
        }
      ]
    }
  ]
}