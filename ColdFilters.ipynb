{
  "nbformat": 4,
  "nbformat_minor": 0,
  "metadata": {
    "colab": {
      "name": "ColdFilters.ipynb",
      "provenance": [],
      "authorship_tag": "ABX9TyOx/4UajikB4GA5Xzhb+0oo",
      "include_colab_link": true
    },
    "kernelspec": {
      "name": "python3",
      "display_name": "Python 3"
    },
    "language_info": {
      "name": "python"
    }
  },
  "cells": [
    {
      "cell_type": "markdown",
      "metadata": {
        "id": "view-in-github",
        "colab_type": "text"
      },
      "source": [
        "<a href=\"https://colab.research.google.com/github/labrador208/Cryostat/blob/main/ColdFilters.ipynb\" target=\"_parent\"><img src=\"https://colab.research.google.com/assets/colab-badge.svg\" alt=\"Open In Colab\"/></a>"
      ]
    },
    {
      "cell_type": "code",
      "metadata": {
        "id": "s6iXkw5BbUEN"
      },
      "source": [
        "import numpy as np\n",
        "import matplotlib.pyplot as plt\n",
        "import math as math\n",
        "import random\n",
        "random.seed(5)"
      ],
      "execution_count": null,
      "outputs": []
    },
    {
      "cell_type": "code",
      "metadata": {
        "id": "vxBNj_v4iH3Z"
      },
      "source": [
        "#50K Nylon filter HDPE\n",
        "#This block creates an array of wavelengths going to 1m and calculates the black body radiation curve (Planck's Law) and the curve modified by a filter\n",
        "thickness=0.001\n",
        "temp=50\n",
        "i=0.000001\n",
        "#i=-1\n",
        "wavelengths=[]\n",
        "emissivePower=[]\n",
        "emissivePowerFilter=[]\n",
        "#emissivePower=[]\n",
        "Etop=2*(6.63e-34)*((3e8)*(3e8))\n",
        "#print (Etop)\n",
        "while i<1:\n",
        "  #j=i*math.pow(10,6)\n",
        "  wavelengths.append(i)\n",
        "  exponentTerm3=(6.63e-34*3.00e8)/((i*1.3805e-23)*temp)\n",
        "  Ebot=math.pow(i,5)*(np.exp(exponentTerm3)-1)\n",
        "  E=Etop/Ebot\n",
        "  alpha=1.5e-4*((1/i)**3.3)\n",
        "  filter=np.exp(-alpha*thickness) \n",
        "\n",
        "  if filter>1:\n",
        "    filter=1\n",
        "  emissivePower.append(E)\n",
        "  Efilter=E*filter\n",
        "  #if Efilter<0:\n",
        "    #Efilter=0\n",
        "  emissivePowerFilter.append(Efilter)\n",
        "  i=i+0.00000005"
      ],
      "execution_count": null,
      "outputs": []
    },
    {
      "cell_type": "code",
      "metadata": {
        "colab": {
          "base_uri": "https://localhost:8080/",
          "height": 293
        },
        "id": "Vz23Cb3UkBpK",
        "outputId": "735bfc45-39cf-4e9f-ece1-07dff0c3431a"
      },
      "source": [
        "\n",
        "\n",
        "#plt.plot(wavelengths,emissivePower,'.')\n",
        "plt.plot(wavelengths,emissivePowerFilter,'*')\n",
        "plt.xlim(0,0.04)"
      ],
      "execution_count": null,
      "outputs": [
        {
          "output_type": "execute_result",
          "data": {
            "text/plain": [
              "(0.0, 0.04)"
            ]
          },
          "metadata": {
            "tags": []
          },
          "execution_count": 27
        },
        {
          "output_type": "display_data",
          "data": {
            "image/png": "[encoded data removed]",
            "text/plain": [
              "<Figure size 432x288 with 1 Axes>"
            ]
          },
          "metadata": {
            "tags": [],
            "needs_background": "light"
          }
        }
      ]
    },
    {
      "cell_type": "code",
      "metadata": {
        "colab": {
          "base_uri": "https://localhost:8080/"
        },
        "id": "TyZUpAF-mFbM",
        "outputId": "bd0973c7-74db-4444-dbf1-93536a1f4735"
      },
      "source": [
        "xLowerBound=0.0000001\n",
        "xUpperBound=0.04\n",
        "yMax=3e-5\n",
        "count=0.0\n",
        "countFilter=0.0\n",
        "x=0.0\n",
        "\n",
        "Etop=2*(6.63e-34)*((3e8)*(3e8))\n",
        "xCoordIn=[]\n",
        "yCoordIn=[]\n",
        "xCoordFilter=[]\n",
        "yCoordFilter=[]\n",
        "xCoordOut=[]\n",
        "yCoordOut=[]\n",
        "thickness=0.001\n",
        "\n",
        "\n",
        "while x<10000000:\n",
        "  xCoord=random.uniform(xLowerBound, xUpperBound)\n",
        "  yCoord=random.uniform(0,yMax)\n",
        "  exponentTerm3=(6.63*math.pow(10,-34)*3.00*math.pow(10,8))/(xCoord*1.3805*math.pow(10,-23)*temp)\n",
        "  Ebot=(xCoord**5)*(np.exp(exponentTerm3)-1)\n",
        "  #filter=0.8025+(0.1004*xCoord)-(0.005953*(xCoord**2))+(1.5781e-6*(xCoord**3))-(1.86e-9*(xCoord**4))+(7.428e-13*(xCoord**5))\n",
        "  alpha=1.5e-4*((1/xCoord)**3.3)\n",
        "  filter=np.exp(-alpha*thickness) \n",
        "  \n",
        "  if filter>1:\n",
        "    filter=1\n",
        "  functionValue=Etop/Ebot\n",
        "  functionFilter=functionValue*filter\n",
        "  \n",
        "  if functionFilter<0:\n",
        "    functionFilter=0\n",
        "  #print(xCoord, yCoord, functionValue, functionFilter)\n",
        "\n",
        "  x=x+1\n",
        "  if yCoord<=functionFilter:\n",
        "    countFilter=countFilter+1\n",
        "    count=count+1\n",
        "    #print(xCoord, yCoord, functionValue)\n",
        "\n",
        "    #print (count)\n",
        "    #print (x)\n",
        "    xCoordFilter.append(xCoord)\n",
        "    yCoordFilter.append(yCoord)\n",
        "  elif yCoord<=functionValue:\n",
        "    count=count+1\n",
        "    xCoordIn.append(xCoord)\n",
        "    yCoordIn.append(yCoord)\n",
        "  else:\n",
        "    xCoordOut.append(xCoord)\n",
        "    yCoordOut.append(yCoord)\n",
        "  \n",
        "ratioFilter=countFilter/x\n",
        "ratio=count/x\n",
        "resultFilter=(xUpperBound-xLowerBound)*(yMax)*ratioFilter\n",
        "print (resultFilter)\n",
        "result=(xUpperBound-xLowerBound)*(yMax)*ratio\n",
        "print(result)\n",
        "\n",
        "\n"
      ],
      "execution_count": null,
      "outputs": [
        {
          "output_type": "stream",
          "text": [
            "/usr/local/lib/python3.7/dist-packages/ipykernel_launcher.py:22: RuntimeWarning: overflow encountered in exp\n"
          ],
          "name": "stderr"
        },
        {
          "output_type": "stream",
          "text": [
            "2.078566403571e-07\n",
            "4.300110049698e-07\n"
          ],
          "name": "stdout"
        }
      ]
    },
    {
      "cell_type": "code",
      "metadata": {
        "colab": {
          "base_uri": "https://localhost:8080/",
          "height": 307
        },
        "id": "khLIXyr7mutb",
        "outputId": "06c22995-bb7f-4627-83ee-1acfd7342995"
      },
      "source": [
        "plt.plot(xCoordIn,yCoordIn,'.',color='orange')\n",
        "plt.plot(xCoordFilter,yCoordFilter,'.', color='red')\n",
        "plt.plot(xCoordOut,yCoordOut,'.', color='blue')\n",
        "#plt.ylim(0, 1.7e-29)\n",
        "plt.xlabel('Meters')\n",
        "plt.ylabel('Spectral Radiance (W/m^3)')\n",
        "#title=' K Integrated from 125GHz to 165GHz'\n",
        "#title=temp ,\" K Integrated from 125GHz to 165GHz\"\n",
        "#plt.title(title)\n",
        "#print(result, \"W/m^2\")\n",
        "plt.xlim(0,0.04)\n",
        "#plt.ylim(0,30000)"
      ],
      "execution_count": null,
      "outputs": [
        {
          "output_type": "execute_result",
          "data": {
            "text/plain": [
              "(0.0, 0.04)"
            ]
          },
          "metadata": {
            "tags": []
          },
          "execution_count": 29
        },
        {
          "output_type": "display_data",
          "data": {
            "image/png": "[encoded data removed]",
            "text/plain": [
              "<Figure size 432x288 with 1 Axes>"
            ]
          },
          "metadata": {
            "tags": [],
            "needs_background": "light"
          }
        }
      ]
    },
    {
      "cell_type": "code",
      "metadata": {
        "colab": {
          "base_uri": "https://localhost:8080/"
        },
        "id": "5E1o8_Mop-fF",
        "outputId": "817356e3-ba3b-4612-88b9-587ee83775c9"
      },
      "source": [
        "thickness=0.004\n",
        "temp=4\n",
        "i=0.000001\n",
        "#i=-1\n",
        "wavelengths=[]\n",
        "emissivePower=[]\n",
        "emissivePowerFilter=[]\n",
        "#emissivePower=[]\n",
        "Etop=2*(6.63e-34)*((3e8)*(3e8))\n",
        "#print (Etop)\n",
        "while i<1:\n",
        "  #j=i*math.pow(10,6)\n",
        "  wavelengths.append(i)\n",
        "  exponentTerm3=(6.63e-34*3.00e8)/((i*1.3805e-23)*temp)\n",
        "  Ebot=math.pow(i,5)*(np.exp(exponentTerm3)-1)\n",
        "  E=Etop/Ebot\n",
        "  alpha=1.5e-4*((1/i)**3.3)\n",
        "  filter=np.exp(-alpha*thickness) \n",
        "\n",
        "  if filter>1:\n",
        "    filter=1\n",
        "  emissivePower.append(E)\n",
        "  Efilter=E*filter\n",
        "  #if Efilter<0:\n",
        "    #Efilter=0\n",
        "  emissivePowerFilter.append(Efilter)\n",
        "  i=i+0.00000005"
      ],
      "execution_count": null,
      "outputs": [
        {
          "output_type": "stream",
          "text": [
            "/usr/local/lib/python3.7/dist-packages/ipykernel_launcher.py:15: RuntimeWarning: overflow encountered in exp\n",
            "  from ipykernel import kernelapp as app\n"
          ],
          "name": "stderr"
        }
      ]
    },
    {
      "cell_type": "code",
      "metadata": {
        "colab": {
          "base_uri": "https://localhost:8080/",
          "height": 293
        },
        "id": "kgHLgHPG0Q88",
        "outputId": "b09c8841-0094-4412-e5d0-aaa7db59e915"
      },
      "source": [
        "plt.plot(wavelengths,emissivePowerFilter,'*')\n",
        "plt.xlim(0,0.2)"
      ],
      "execution_count": null,
      "outputs": [
        {
          "output_type": "execute_result",
          "data": {
            "text/plain": [
              "(0.0, 0.2)"
            ]
          },
          "metadata": {
            "tags": []
          },
          "execution_count": 31
        },
        {
          "output_type": "display_data",
          "data": {
            "image/png": "[encoded data removed]",
            "text/plain": [
              "<Figure size 432x288 with 1 Axes>"
            ]
          },
          "metadata": {
            "tags": [],
            "needs_background": "light"
          }
        }
      ]
    },
    {
      "cell_type": "code",
      "metadata": {
        "colab": {
          "base_uri": "https://localhost:8080/"
        },
        "id": "hdYIlpn23tNt",
        "outputId": "f7dc462f-a3c3-4626-8ec2-2b3c79e817c0"
      },
      "source": [
        "xLowerBound=0.0000001\n",
        "xUpperBound=0.2\n",
        "yMax=4e-7\n",
        "count=0.0\n",
        "countFilter=0.0\n",
        "x=0.0\n",
        "\n",
        "Etop=2*(6.63e-34)*((3e8)*(3e8))\n",
        "xCoordIn=[]\n",
        "yCoordIn=[]\n",
        "xCoordFilter=[]\n",
        "yCoordFilter=[]\n",
        "xCoordOut=[]\n",
        "yCoordOut=[]\n",
        "thickness=0.004\n",
        "\n",
        "\n",
        "while x<10000000:\n",
        "  xCoord=random.uniform(xLowerBound, xUpperBound)\n",
        "  yCoord=random.uniform(0,yMax)\n",
        "  exponentTerm3=(6.63*math.pow(10,-34)*3.00*math.pow(10,8))/(xCoord*1.3805*math.pow(10,-23)*temp)\n",
        "  Ebot=(xCoord**5)*(np.exp(exponentTerm3)-1)\n",
        "  #filter=0.8025+(0.1004*xCoord)-(0.005953*(xCoord**2))+(1.5781e-6*(xCoord**3))-(1.86e-9*(xCoord**4))+(7.428e-13*(xCoord**5))\n",
        "  alpha=1.5e-4*((1/xCoord)**3.3)\n",
        "  filter=np.exp(-alpha*thickness) \n",
        "  \n",
        "  if filter>1:\n",
        "    filter=1\n",
        "  functionValue=Etop/Ebot\n",
        "  functionFilter=functionValue*filter\n",
        "  \n",
        "  if functionFilter<0:\n",
        "    functionFilter=0\n",
        "  #print(xCoord, yCoord, functionValue, functionFilter)\n",
        "\n",
        "  x=x+1\n",
        "  if yCoord<=functionFilter:\n",
        "    countFilter=countFilter+1\n",
        "    count=count+1\n",
        "    #print(xCoord, yCoord, functionValue)\n",
        "\n",
        "    #print (count)\n",
        "    #print (x)\n",
        "    xCoordFilter.append(xCoord)\n",
        "    yCoordFilter.append(yCoord)\n",
        "  elif yCoord<=functionValue:\n",
        "    count=count+1\n",
        "    xCoordIn.append(xCoord)\n",
        "    yCoordIn.append(yCoord)\n",
        "  else:\n",
        "    xCoordOut.append(xCoord)\n",
        "    yCoordOut.append(yCoord)\n",
        "  \n",
        "ratioFilter=countFilter/x\n",
        "ratio=count/x\n",
        "resultFilter=(xUpperBound-xLowerBound)*(yMax)*ratioFilter\n",
        "print (resultFilter)\n",
        "result=(xUpperBound-xLowerBound)*(yMax)*ratio\n",
        "print(result)\n",
        "\n",
        "\n"
      ],
      "execution_count": null,
      "outputs": [
        {
          "output_type": "stream",
          "text": [
            "/usr/local/lib/python3.7/dist-packages/ipykernel_launcher.py:22: RuntimeWarning: overflow encountered in exp\n"
          ],
          "name": "stderr"
        },
        {
          "output_type": "stream",
          "text": [
            "4.273301863348e-09\n",
            "8.794403602796e-09\n"
          ],
          "name": "stdout"
        }
      ]
    },
    {
      "cell_type": "code",
      "metadata": {
        "colab": {
          "base_uri": "https://localhost:8080/",
          "height": 307
        },
        "id": "drNPOpjmsjwb",
        "outputId": "5934e8b2-aad0-4d7c-bf83-b88ab45cbf1c"
      },
      "source": [
        "plt.plot(xCoordIn,yCoordIn,'.',color='orange')\n",
        "plt.plot(xCoordFilter,yCoordFilter,'.', color='red')\n",
        "plt.plot(xCoordOut,yCoordOut,'.', color='blue')\n",
        "#plt.ylim(0, 1.7e-29)\n",
        "plt.xlabel('Meters')\n",
        "plt.ylabel('Spectral Radiance (W/m^3)')\n",
        "#title=' K Integrated from 125GHz to 165GHz'\n",
        "#title=temp ,\" K Integrated from 125GHz to 165GHz\"\n",
        "#plt.title(title)\n",
        "#print(result, \"W/m^2\")\n",
        "plt.xlim(0,0.2)\n",
        "#plt.ylim(0,30000)"
      ],
      "execution_count": null,
      "outputs": [
        {
          "output_type": "execute_result",
          "data": {
            "text/plain": [
              "(0.0, 0.2)"
            ]
          },
          "metadata": {
            "tags": []
          },
          "execution_count": 33
        },
        {
          "output_type": "display_data",
          "data": {
            "image/png": "[encoded data removed]",
            "text/plain": [
              "<Figure size 432x288 with 1 Axes>"
            ]
          },
          "metadata": {
            "tags": [],
            "needs_background": "light"
          }
        }
      ]
    },
    {
      "cell_type": "code",
      "metadata": {
        "colab": {
          "base_uri": "https://localhost:8080/"
        },
        "id": "K1rBgA9AHiIt",
        "outputId": "144ba22f-28ae-443f-bd06-484e5e69be48"
      },
      "source": [
        "\n",
        "thickness=0.001\n",
        "temp=1.5\n",
        "i=0.000001\n",
        "#i=-1\n",
        "wavelengths=[]\n",
        "emissivePower=[]\n",
        "emissivePowerFilter=[]\n",
        "#emissivePower=[]\n",
        "Etop=2*(6.63e-34)*((3e8)*(3e8))\n",
        "#print (Etop)\n",
        "while i<1:\n",
        "  #j=i*math.pow(10,6)\n",
        "  wavelengths.append(i)\n",
        "  exponentTerm3=(6.63e-34*3.00e8)/((i*1.3805e-23)*temp)\n",
        "  Ebot=math.pow(i,5)*(np.exp(exponentTerm3)-1)\n",
        "  E=Etop/Ebot\n",
        "  filter=2.707-(2.654e4*i)+(9.656e7*i**2)-(1.62e11*i**3)+(1.253e14*i**4)-(3.566e16*i**5)\n",
        "  if i>0.00127918099669:\n",
        "    filter=1\n",
        "  if filter<=0:\n",
        "    filter=0\n",
        "  if filter>1:\n",
        "    filter=1\n",
        "  \n",
        "\n",
        "  \n",
        "  emissivePower.append(E)\n",
        "  Efilter=E*filter\n",
        "  #print(i,filter, E, Efilter)\n",
        "  #if Efilter<0:\n",
        "    #Efilter=0\n",
        "  emissivePowerFilter.append(Efilter)\n",
        "  i=i+0.00000005"
      ],
      "execution_count": null,
      "outputs": [
        {
          "output_type": "stream",
          "text": [
            "/usr/local/lib/python3.7/dist-packages/ipykernel_launcher.py:16: RuntimeWarning: overflow encountered in exp\n",
            "  app.launch_new_instance()\n"
          ],
          "name": "stderr"
        }
      ]
    },
    {
      "cell_type": "code",
      "metadata": {
        "colab": {
          "base_uri": "https://localhost:8080/",
          "height": 293
        },
        "id": "mtCb_BYWMws6",
        "outputId": "63114817-7eed-4c88-9fcf-84ca93a5b253"
      },
      "source": [
        "plt.plot(wavelengths,emissivePower,\".\")\n",
        "plt.plot(wavelengths,emissivePowerFilter,'*')\n",
        "plt.xlim(0,0.00127918099669)"
      ],
      "execution_count": null,
      "outputs": [
        {
          "output_type": "execute_result",
          "data": {
            "text/plain": [
              "(0.0, 0.00127918099669)"
            ]
          },
          "metadata": {
            "tags": []
          },
          "execution_count": 51
        },
        {
          "output_type": "display_data",
          "data": {
            "image/png": "[encoded data removed]",
            "text/plain": [
              "<Figure size 432x288 with 1 Axes>"
            ]
          },
          "metadata": {
            "tags": [],
            "needs_background": "light"
          }
        }
      ]
    },
    {
      "cell_type": "code",
      "metadata": {
        "colab": {
          "base_uri": "https://localhost:8080/"
        },
        "id": "mNODUDhIXBtI",
        "outputId": "f24901ce-bca2-45b6-8bdb-387432ebd549"
      },
      "source": [
        "xLowerBound=0.0000001\n",
        "xUpperBound=0.006\n",
        "yMax=3e-5\n",
        "count=0.0\n",
        "countFilter=0.0\n",
        "x=0.0\n",
        "\n",
        "Etop=2*(6.63e-34)*((3e8)*(3e8))\n",
        "xCoordIn=[]\n",
        "yCoordIn=[]\n",
        "xCoordFilter=[]\n",
        "yCoordFilter=[]\n",
        "xCoordOut=[]\n",
        "yCoordOut=[]\n",
        "thickness=0.004\n",
        "\n",
        "\n",
        "while x<10000000:\n",
        "  xCoord=random.uniform(xLowerBound, xUpperBound)\n",
        "  yCoord=random.uniform(0,yMax)\n",
        "  exponentTerm3=(6.63*math.pow(10,-34)*3.00*math.pow(10,8))/(xCoord*1.3805*math.pow(10,-23)*temp)\n",
        "  Ebot=(xCoord**5)*(np.exp(exponentTerm3)-1)\n",
        "  #filter=0.8025+(0.1004*xCoord)-(0.005953*(xCoord**2))+(1.5781e-6*(xCoord**3))-(1.86e-9*(xCoord**4))+(7.428e-13*(xCoord**5))\n",
        "  filter=2.707-(2.654e4*xCoord)+(9.656e7*xCoord**2)-(1.62e11*xCoord**3)+(1.253e14*xCoord**4)-(3.566e16*xCoord**5)\n",
        "  if xCoord>0.00127918099669:\n",
        "    filter=1\n",
        "  if filter<=0:\n",
        "    filter=0\n",
        "  if filter>1:\n",
        "    filter=1\n",
        "  functionValue=Etop/Ebot\n",
        "  functionFilter=functionValue*filter\n",
        "  \n",
        "  if functionFilter<0:\n",
        "    functionFilter=0\n",
        "  #print(xCoord, yCoord, functionValue, functionFilter)\n",
        "\n",
        "  x=x+1\n",
        "  if yCoord<=functionFilter:\n",
        "    countFilter=countFilter+1\n",
        "    count=count+1\n",
        "    #print(xCoord, yCoord, functionValue)\n",
        "\n",
        "    #print (count)\n",
        "    #print (x)\n",
        "    xCoordFilter.append(xCoord)\n",
        "    yCoordFilter.append(yCoord)\n",
        "  elif yCoord<=functionValue:\n",
        "    count=count+1\n",
        "    xCoordIn.append(xCoord)\n",
        "    yCoordIn.append(yCoord)\n",
        "  else:\n",
        "    xCoordOut.append(xCoord)\n",
        "    yCoordOut.append(yCoord)\n",
        "  \n",
        "ratioFilter=countFilter/x\n",
        "ratio=count/x\n",
        "resultFilter=(xUpperBound-xLowerBound)*(yMax)*ratioFilter\n",
        "print (resultFilter)\n",
        "result=(xUpperBound-xLowerBound)*(yMax)*ratio\n",
        "print(result)\n",
        "\n",
        "\n"
      ],
      "execution_count": null,
      "outputs": [
        {
          "output_type": "stream",
          "text": [
            "/usr/local/lib/python3.7/dist-packages/ipykernel_launcher.py:22: RuntimeWarning: overflow encountered in exp\n"
          ],
          "name": "stderr"
        },
        {
          "output_type": "stream",
          "text": [
            "7.916046663689999e-08\n",
            "8.07044809029e-08\n"
          ],
          "name": "stdout"
        }
      ]
    },
    {
      "cell_type": "code",
      "metadata": {
        "colab": {
          "base_uri": "https://localhost:8080/",
          "height": 307
        },
        "id": "19Y8nd8TXXO9",
        "outputId": "04330969-b5de-4cbb-9228-ac6c4e72fffc"
      },
      "source": [
        "plt.plot(xCoordIn,yCoordIn,'.',color='orange')\n",
        "plt.plot(xCoordFilter,yCoordFilter,'.', color='red')\n",
        "plt.plot(xCoordOut,yCoordOut,'.', color='blue')\n",
        "#plt.ylim(0, 1.7e-29)\n",
        "plt.xlabel('Meters')\n",
        "plt.ylabel('Spectral Radiance (W/m^3)')\n",
        "#title=' K Integrated from 125GHz to 165GHz'\n",
        "#title=temp ,\" K Integrated from 125GHz to 165GHz\"\n",
        "#plt.title(title)\n",
        "#print(result, \"W/m^2\")\n",
        "#plt.xlim(0,0.2)\n",
        "#plt.ylim(0,30000)"
      ],
      "execution_count": null,
      "outputs": [
        {
          "output_type": "execute_result",
          "data": {
            "text/plain": [
              "Text(0, 0.5, 'Spectral Radiance (W/m^3)')"
            ]
          },
          "metadata": {
            "tags": []
          },
          "execution_count": 53
        },
        {
          "output_type": "display_data",
          "data": {
            "image/png": "[encoded data removed]",
            "text/plain": [
              "<Figure size 432x288 with 1 Axes>"
            ]
          },
          "metadata": {
            "tags": [],
            "needs_background": "light"
          }
        }
      ]
    }
  ]
}